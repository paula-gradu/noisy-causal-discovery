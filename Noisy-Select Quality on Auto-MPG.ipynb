{
 "cells": [
  {
   "cell_type": "code",
   "execution_count": 1,
   "metadata": {},
   "outputs": [
    {
     "name": "stderr",
     "output_type": "stream",
     "text": [
      "No GPU automatically detected. Setting SETTINGS.GPU to 0, and SETTINGS.NJOBS to cpu_count.\n"
     ]
    }
   ],
   "source": [
    "from our_utils import *\n",
    "from noisy_causal_discovery import *\n",
    "\n",
    "from cdt.data import load_dataset\n",
    "import matplotlib.pyplot as plt\n",
    "import numpy as np\n",
    "from numpy.random import laplace\n",
    "from sklearn.preprocessing import normalize\n",
    "import sempler\n",
    "from sempler.generators import dag_avg_deg\n",
    "from tqdm.notebook import tqdm"
   ]
  },
  {
   "cell_type": "code",
   "execution_count": 2,
   "metadata": {},
   "outputs": [],
   "source": [
    "''' Load the dataset and the graph and convert to correct format. Then add edges.\n",
    "    Indices represent: 0: displacement, 1: mpg, 2: horsepower, 3: weight, 4: acceleration\n",
    "    Finally, normalize the data.'''\n",
    "\n",
    "raw_data, _ = load_dataset('tuebingen')\n",
    "np_raw_data = raw_data.to_numpy()\n",
    "\n",
    "np_raw_subdata = np.hstack((np_raw_data[12][0].reshape(-1, 1), np_raw_data[12][1].reshape(-1, 1))) # (0->1)\n",
    "np_raw_subdata = np.hstack((np_raw_subdata, np_raw_data[13][0].reshape(-1, 1)))                    # (2->0)\n",
    "np_raw_subdata = np.hstack((np_raw_subdata, np_raw_data[14][0].reshape(-1, 1)))                    # (3->0)\n",
    "np_raw_subdata = np.hstack((np_raw_subdata, np_raw_data[15][1].reshape(-1, 1)))                    # (2->4)\n",
    "\n",
    "n_full, d = np_raw_subdata.shape # get experiment dimesnions\n",
    "\n",
    "G = np.zeros((d,d)) # put graph into numpy format\n",
    "G[0,1] = 1 \n",
    "G[2,0] = 1 \n",
    "G[3,0] = 1 \n",
    "G[2,4] = 1\n",
    "\n",
    "nr_edges = np.sum(G) # get number of edges\n",
    "\n",
    "data_full = np.zeros((n_full, d))\n",
    "for j in range(d): # normalize\n",
    "    data_full[:, j] = (np_raw_subdata[:, j].copy() - np.mean(np_raw_subdata[:, j])) / np.std(np_raw_subdata[:, j])"
   ]
  },
  {
   "cell_type": "code",
   "execution_count": 3,
   "metadata": {},
   "outputs": [],
   "source": [
    "''' Choose general experiment parameters. '''\n",
    "\n",
    "trials = 100          # no. of trials to average over\n",
    "err_lvl = 0.05        # signficance level\n",
    "delta = 0.25          # delta Huber parameter\n",
    "no_graphs = 10        # number of graph variations\n",
    "n = 100               # sample sized to be used in experiments\n",
    "p_add = 2/(d*d)       # prob. of adding edge\n",
    "p_remove = 2/nr_edges # prob. of removing edge\n",
    "\n",
    "split_choices = [0.05, 0.5, 0.95] # splitting baselines\n",
    "\n",
    "eps_choices = [0.01, 0.02, 0.03, 0.04, 0.05, 0.06, 0.07, 0.08, 0.09, 0.1] # privacy parameters\n",
    "\n",
    "split_shd, noisy_shd = {}, {}        # initialize the SHD results dictionaries\n",
    "split_widths, noisy_widths = {}, {}  # initialize the CI widths results dictionaries"
   ]
  },
  {
   "cell_type": "code",
   "execution_count": 4,
   "metadata": {},
   "outputs": [
    {
     "data": {
      "application/vnd.jupyter.widget-view+json": {
       "model_id": "12006723d8404086b49147ca0a146bf1",
       "version_major": 2,
       "version_minor": 0
      },
      "text/plain": [
       "  0%|          | 0/100 [00:00<?, ?it/s]"
      ]
     },
     "metadata": {},
     "output_type": "display_data"
    },
    {
     "name": "stdout",
     "output_type": "stream",
     "text": [
      "For split = 0.05 data-splitting attains avg. SHD: 4.65\n",
      "For split = 0.05 data-splitting attains avg. CI widths: 0.23\n",
      "------------------------------------------------------------\n"
     ]
    },
    {
     "data": {
      "application/vnd.jupyter.widget-view+json": {
       "model_id": "aa18e18e259b4672bc73b5e4c679f97a",
       "version_major": 2,
       "version_minor": 0
      },
      "text/plain": [
       "  0%|          | 0/100 [00:00<?, ?it/s]"
      ]
     },
     "metadata": {},
     "output_type": "display_data"
    },
    {
     "name": "stdout",
     "output_type": "stream",
     "text": [
      "For split = 0.5 data-splitting attains avg. SHD: 0.72\n",
      "For split = 0.5 data-splitting attains avg. CI widths: 0.4\n",
      "------------------------------------------------------------\n"
     ]
    },
    {
     "data": {
      "application/vnd.jupyter.widget-view+json": {
       "model_id": "0de512282523446a9c01619a52491578",
       "version_major": 2,
       "version_minor": 0
      },
      "text/plain": [
       "  0%|          | 0/100 [00:00<?, ?it/s]"
      ]
     },
     "metadata": {},
     "output_type": "display_data"
    },
    {
     "name": "stdout",
     "output_type": "stream",
     "text": [
      "For split = 0.95 data-splitting attains avg. SHD: 0.03\n",
      "For split = 0.95 data-splitting attains avg. CI widths: 0.76\n",
      "------------------------------------------------------------\n"
     ]
    }
   ],
   "source": [
    "''' Compute the splitting baselines SHD to graph selected by the full data\n",
    "    and the estimated mean interval width. '''\n",
    "\n",
    "for split in split_choices:\n",
    "\n",
    "    split_shd[(split, delta)] = []\n",
    "    split_widths[(split, delta)] = []\n",
    "\n",
    "    for trial in tqdm(range(trials)):\n",
    "        np.random.seed(trial)\n",
    "\n",
    "        idxs = np.random.choice(range(n_full), size=n, replace=False)\n",
    "        data = data_full[idxs]\n",
    "\n",
    "        G_options = generate_graphs(G, no_graphs, p_remove, p_add)\n",
    "\n",
    "        full_scores = [score(data, G_options[j], delta=delta) for j in range(no_graphs)]\n",
    "        full_G_est = G_options[np.argmin(full_scores)]\n",
    "\n",
    "        select_data, infer_data = subsample(data, split)\n",
    "\n",
    "        split_scores = [score(select_data, G_options[j], delta=delta) for j in range(no_graphs)]\n",
    "        split_G_est = G_options[np.argmin(split_scores)]\n",
    "\n",
    "        split_shd[(split, delta)].append(np.sum(np.abs(split_G_est - full_G_est)))\n",
    "\n",
    "        if np.any(split_G_est) > 0:\n",
    "            split_widths[(split, delta)].append(get_CI_width(infer_data, split_G_est, err_lvl))\n",
    "        else:\n",
    "            split_widths[(split, delta)].append(0)\n",
    "    \n",
    "    print(\"For split =\", split,\"data-splitting attains avg. SHD:\", \\\n",
    "          np.round(np.mean(split_shd[(split, delta)]), 2))\n",
    "\n",
    "    print(\"For split =\", split,\"data-splitting attains avg. CI widths:\", \\\n",
    "          np.round(np.mean(split_widths[(split, delta)]), 2))\n",
    "    \n",
    "    print(\"------------------------------------------------------------\")"
   ]
  },
  {
   "cell_type": "code",
   "execution_count": 5,
   "metadata": {},
   "outputs": [
    {
     "data": {
      "application/vnd.jupyter.widget-view+json": {
       "model_id": "c41f752788454813b4b9cfe3e46f53f2",
       "version_major": 2,
       "version_minor": 0
      },
      "text/plain": [
       "  0%|          | 0/100 [00:00<?, ?it/s]"
      ]
     },
     "metadata": {},
     "output_type": "display_data"
    },
    {
     "name": "stdout",
     "output_type": "stream",
     "text": [
      "For eps = 0.01 noisy-select attins avg. SHD: 4.52\n",
      "For eps = 0.01 noisy-select attains avg. CI widths: 0.27\n",
      "------------------------------------------------------------\n"
     ]
    },
    {
     "data": {
      "application/vnd.jupyter.widget-view+json": {
       "model_id": "ef1215971e634e4085f1891b3bcabf4f",
       "version_major": 2,
       "version_minor": 0
      },
      "text/plain": [
       "  0%|          | 0/100 [00:00<?, ?it/s]"
      ]
     },
     "metadata": {},
     "output_type": "display_data"
    },
    {
     "name": "stdout",
     "output_type": "stream",
     "text": [
      "For eps = 0.02 noisy-select attins avg. SHD: 4.12\n",
      "For eps = 0.02 noisy-select attains avg. CI widths: 0.28\n",
      "------------------------------------------------------------\n"
     ]
    },
    {
     "data": {
      "application/vnd.jupyter.widget-view+json": {
       "model_id": "d1cc4914e5fc47ef9f6ddeb0cd933bc8",
       "version_major": 2,
       "version_minor": 0
      },
      "text/plain": [
       "  0%|          | 0/100 [00:00<?, ?it/s]"
      ]
     },
     "metadata": {},
     "output_type": "display_data"
    },
    {
     "name": "stdout",
     "output_type": "stream",
     "text": [
      "For eps = 0.03 noisy-select attins avg. SHD: 3.82\n",
      "For eps = 0.03 noisy-select attains avg. CI widths: 0.29\n",
      "------------------------------------------------------------\n"
     ]
    },
    {
     "data": {
      "application/vnd.jupyter.widget-view+json": {
       "model_id": "576a84f1b1f049b8be3720feae7dc8a6",
       "version_major": 2,
       "version_minor": 0
      },
      "text/plain": [
       "  0%|          | 0/100 [00:00<?, ?it/s]"
      ]
     },
     "metadata": {},
     "output_type": "display_data"
    },
    {
     "name": "stdout",
     "output_type": "stream",
     "text": [
      "For eps = 0.04 noisy-select attins avg. SHD: 3.49\n",
      "For eps = 0.04 noisy-select attains avg. CI widths: 0.3\n",
      "------------------------------------------------------------\n"
     ]
    },
    {
     "data": {
      "application/vnd.jupyter.widget-view+json": {
       "model_id": "efca5102814747658e764015e59be94c",
       "version_major": 2,
       "version_minor": 0
      },
      "text/plain": [
       "  0%|          | 0/100 [00:00<?, ?it/s]"
      ]
     },
     "metadata": {},
     "output_type": "display_data"
    },
    {
     "name": "stdout",
     "output_type": "stream",
     "text": [
      "For eps = 0.05 noisy-select attins avg. SHD: 3.27\n",
      "For eps = 0.05 noisy-select attains avg. CI widths: 0.32\n",
      "------------------------------------------------------------\n"
     ]
    },
    {
     "data": {
      "application/vnd.jupyter.widget-view+json": {
       "model_id": "5e4f7efba33a4d63a8419d79a1c7f42a",
       "version_major": 2,
       "version_minor": 0
      },
      "text/plain": [
       "  0%|          | 0/100 [00:00<?, ?it/s]"
      ]
     },
     "metadata": {},
     "output_type": "display_data"
    },
    {
     "name": "stdout",
     "output_type": "stream",
     "text": [
      "For eps = 0.06 noisy-select attins avg. SHD: 3.1\n",
      "For eps = 0.06 noisy-select attains avg. CI widths: 0.33\n",
      "------------------------------------------------------------\n"
     ]
    },
    {
     "data": {
      "application/vnd.jupyter.widget-view+json": {
       "model_id": "31fa53d1fe804e9498dde7145fafba7b",
       "version_major": 2,
       "version_minor": 0
      },
      "text/plain": [
       "  0%|          | 0/100 [00:00<?, ?it/s]"
      ]
     },
     "metadata": {},
     "output_type": "display_data"
    },
    {
     "name": "stdout",
     "output_type": "stream",
     "text": [
      "For eps = 0.07 noisy-select attins avg. SHD: 2.72\n",
      "For eps = 0.07 noisy-select attains avg. CI widths: 0.35\n",
      "------------------------------------------------------------\n"
     ]
    },
    {
     "data": {
      "application/vnd.jupyter.widget-view+json": {
       "model_id": "c2bd36443c1e4437b967be22b725471e",
       "version_major": 2,
       "version_minor": 0
      },
      "text/plain": [
       "  0%|          | 0/100 [00:00<?, ?it/s]"
      ]
     },
     "metadata": {},
     "output_type": "display_data"
    },
    {
     "name": "stdout",
     "output_type": "stream",
     "text": [
      "For eps = 0.08 noisy-select attins avg. SHD: 2.4\n",
      "For eps = 0.08 noisy-select attains avg. CI widths: 0.36\n",
      "------------------------------------------------------------\n"
     ]
    },
    {
     "data": {
      "application/vnd.jupyter.widget-view+json": {
       "model_id": "23c2b88ad3ac41f2a2190cb6e6b3e047",
       "version_major": 2,
       "version_minor": 0
      },
      "text/plain": [
       "  0%|          | 0/100 [00:00<?, ?it/s]"
      ]
     },
     "metadata": {},
     "output_type": "display_data"
    },
    {
     "name": "stdout",
     "output_type": "stream",
     "text": [
      "For eps = 0.09 noisy-select attins avg. SHD: 2.39\n",
      "For eps = 0.09 noisy-select attains avg. CI widths: 0.38\n",
      "------------------------------------------------------------\n"
     ]
    },
    {
     "data": {
      "application/vnd.jupyter.widget-view+json": {
       "model_id": "534636328ce1448ea361e5e3a9bd455d",
       "version_major": 2,
       "version_minor": 0
      },
      "text/plain": [
       "  0%|          | 0/100 [00:00<?, ?it/s]"
      ]
     },
     "metadata": {},
     "output_type": "display_data"
    },
    {
     "name": "stdout",
     "output_type": "stream",
     "text": [
      "For eps = 0.1 noisy-select attins avg. SHD: 2.29\n",
      "For eps = 0.1 noisy-select attains avg. CI widths: 0.38\n",
      "------------------------------------------------------------\n"
     ]
    }
   ],
   "source": [
    "''' Compute the noisy-select SHD to graph selected by the full data\n",
    "    and the estimated mean interval width for varying settings of epsilon. '''\n",
    "\n",
    "for eps in eps_choices:\n",
    "    \n",
    "    err_lvl_adj = alpha_tilde(err_lvl, eps, n)\n",
    "\n",
    "    noisy_shd[(eps, delta)] = []\n",
    "    noisy_widths[(eps, delta)] = []\n",
    "\n",
    "    for trial in tqdm(range(trials)):\n",
    "        np.random.seed(trial)\n",
    "\n",
    "        idxs = np.random.choice(range(n_full), size=n, replace=False)\n",
    "        data = data_full[idxs]\n",
    "\n",
    "        G_options = generate_graphs(G, no_graphs, p_remove, p_add)\n",
    "\n",
    "        full_scores = [score(data, G_options[j], delta=delta) for j in range(no_graphs)]\n",
    "        full_G_est = G_options[np.argmin(full_scores)]\n",
    "\n",
    "        sensitivity = get_sensitivity(data, G_options, delta=delta)\n",
    "        noise_lvl = noise_scale(eps, sensitivity)\n",
    "\n",
    "        noisy_scores = [score(data, G_options[j], delta) + laplace(scale=noise_lvl) for j in range(no_graphs)]\n",
    "        noisy_G_est = G_options[np.argmin(noisy_scores)]\n",
    "\n",
    "        noisy_shd[(eps, delta)].append(np.sum(np.abs(noisy_G_est - full_G_est)))\n",
    "\n",
    "        if np.any(noisy_G_est):\n",
    "            noisy_widths[(eps, delta)].append(get_CI_width(data, noisy_G_est, err_lvl_adj))\n",
    "        else:\n",
    "            noisy_widths[(eps, delta)].append(0)\n",
    "            \n",
    "    print(\"For eps =\", eps,\"noisy-select attins avg. SHD:\", \\\n",
    "          np.round(np.mean(noisy_shd[(eps, delta)]), 2))\n",
    "\n",
    "    print(\"For eps =\", eps, \"noisy-select attains avg. CI widths:\", \\\n",
    "          np.round(np.mean(noisy_widths[(eps, delta)]), 2))\n",
    "\n",
    "    print(\"------------------------------------------------------------\")"
   ]
  },
  {
   "cell_type": "code",
   "execution_count": 6,
   "metadata": {},
   "outputs": [
    {
     "data": {
      "image/png": "[encoded data removed]",
      "text/plain": [
       "<Figure size 504x360 with 1 Axes>"
      ]
     },
     "metadata": {
      "needs_background": "light"
     },
     "output_type": "display_data"
    },
    {
     "data": {
      "image/png": "[encoded data removed]",
      "text/plain": [
       "<Figure size 504x360 with 1 Axes>"
      ]
     },
     "metadata": {
      "needs_background": "light"
     },
     "output_type": "display_data"
    }
   ],
   "source": [
    "''' Plot the corresponding results. '''\n",
    "\n",
    "colors=['firebrick', 'darkorange', 'forestgreen']\n",
    "\n",
    "plt.figure(figsize=(7, 5))\n",
    "plt.plot(eps_choices, [np.mean(noisy_shd[(eps, delta)]) for eps in eps_choices], \\\n",
    "         color='royalblue', linewidth=3, label=\"noisy select\")\n",
    "for i, split in enumerate(split_choices):\n",
    "    plt.axhline(y=np.mean(split_shd[(split, delta)]), linestyle='--', xmin=0.05, xmax=0.95, \\\n",
    "                color=colors[i], linewidth=3, label=str(int(split*100))+'% split')\n",
    "plt.xlabel(\"$\\epsilon$\", fontsize=20)\n",
    "plt.ylabel(\"SHD\", fontsize=20)\n",
    "plt.xticks(fontsize=14)\n",
    "plt.yticks(fontsize=14)\n",
    "plt.legend(fontsize=16, loc=6)\n",
    "plt.title(\"Auto-MPG Data\", fontsize=20)\n",
    "plt.tight_layout()\n",
    "plt.show()\n",
    "\n",
    "plt.figure(figsize=(7, 5))\n",
    "plt.plot(eps_choices, [np.mean(noisy_widths[(eps, delta)]) for eps in eps_choices], \\\n",
    "         color='royalblue', linewidth=3, label=\"noisy select\")\n",
    "for i, split in enumerate(split_choices):\n",
    "    plt.axhline(y=np.mean(split_widths[(split, delta)]), linestyle='--', xmin=0.05, xmax=0.95, \\\n",
    "                color=colors[i], linewidth=3, label=str(int(split*100))+'% split')\n",
    "plt.xlabel(\"$\\epsilon$\", fontsize=20)\n",
    "plt.ylabel(\"interval width\", fontsize=20)\n",
    "plt.xticks(fontsize=14)\n",
    "plt.yticks(fontsize=14)\n",
    "plt.legend(fontsize=16, loc=6)\n",
    "plt.title(\"Auto-MPG Data\", fontsize=20)\n",
    "plt.tight_layout()\n",
    "plt.show()"
   ]
  },
  {
   "cell_type": "code",
   "execution_count": 7,
   "metadata": {},
   "outputs": [
    {
     "name": "stdout",
     "output_type": "stream",
     "text": [
      "The shd to the *true* graph using the full data for selection is: 3.58\n"
     ]
    }
   ],
   "source": [
    "''' [EXTRA] See SHD to *true* graph for full data. '''\n",
    "\n",
    "full_shd = []\n",
    "for trial in range(trials):\n",
    "    np.random.seed(trial)\n",
    "\n",
    "    idxs = np.random.choice(range(n_full), size=n, replace=False)\n",
    "    data = data_full[idxs]\n",
    "\n",
    "    G_options = generate_graphs(G, no_graphs, p_remove, p_add)\n",
    "\n",
    "    full_scores = [score(data, G_options[j], delta=delta) for j in range(no_graphs)]\n",
    "    full_G_est = G_options[np.argmin(full_scores)]\n",
    "\n",
    "    full_shd.append(np.sum(np.abs(G - full_G_est)))\n",
    "    \n",
    "print(f\"The shd to the *true* graph using the full data for selection is: {np.round(np.mean(full_shd), 2)}\")"
   ]
  }
 ],
 "metadata": {
  "kernelspec": {
   "display_name": "Python 3",
   "language": "python",
   "name": "python3"
  },
  "language_info": {
   "codemirror_mode": {
    "name": "ipython",
    "version": 3
   },
   "file_extension": ".py",
   "mimetype": "text/x-python",
   "name": "python",
   "nbconvert_exporter": "python",
   "pygments_lexer": "ipython3",
   "version": "3.8.3"
  }
 },
 "nbformat": 4,
 "nbformat_minor": 4
}
