{
 "cells": [
  {
   "cell_type": "code",
   "execution_count": 1,
   "metadata": {},
   "outputs": [],
   "source": [
    "from tqdm import tqdm \n",
    "import numpy as np\n",
    "\n",
    "from sempler.generators import dag_avg_deg\n",
    "from sempler import LGANM\n",
    "\n",
    "import ges\n",
    "from scores import HuberScore\n",
    "from our_utils import *\n",
    "\n",
    "import matplotlib.pyplot as plt\n",
    "\n",
    "from noisy_causal_discovery import noisy_fit, alpha_tilde"
   ]
  },
  {
   "cell_type": "code",
   "execution_count": 2,
   "metadata": {},
   "outputs": [],
   "source": [
    "# setting experimental parameters\n",
    "trials = 100\n",
    "avg_deg = 1\n",
    "err_lvl = 0.05\n",
    "\n",
    "# setting parameters to noisy GES\n",
    "max_iter = 5\n",
    "delta = 0.5\n",
    "\n",
    "# setting dimension and sample increments\n",
    "d_inc = 5\n",
    "n_inc = 100\n",
    "\n",
    "#initializing results matrix\n",
    "results_rand = np.zeros((4, 5))"
   ]
  },
  {
   "cell_type": "code",
   "execution_count": 3,
   "metadata": {
    "scrolled": true
   },
   "outputs": [
    {
     "name": "stderr",
     "output_type": "stream",
     "text": [
      "100%|██████████| 100/100 [00:28<00:00,  3.53it/s]\n"
     ]
    },
    {
     "name": "stdout",
     "output_type": "stream",
     "text": [
      "eps, d, n= 0.02 5 100 , metrics= 0.02\n"
     ]
    },
    {
     "name": "stderr",
     "output_type": "stream",
     "text": [
      "100%|██████████| 100/100 [00:42<00:00,  2.37it/s]\n"
     ]
    },
    {
     "name": "stdout",
     "output_type": "stream",
     "text": [
      "eps, d, n= 0.02 5 200 , metrics= 0.02\n"
     ]
    },
    {
     "name": "stderr",
     "output_type": "stream",
     "text": [
      "100%|██████████| 100/100 [00:53<00:00,  1.87it/s]\n"
     ]
    },
    {
     "name": "stdout",
     "output_type": "stream",
     "text": [
      "eps, d, n= 0.02 5 300 , metrics= 0.02\n"
     ]
    },
    {
     "name": "stderr",
     "output_type": "stream",
     "text": [
      "100%|██████████| 100/100 [00:55<00:00,  1.79it/s]\n"
     ]
    },
    {
     "name": "stdout",
     "output_type": "stream",
     "text": [
      "eps, d, n= 0.02 5 400 , metrics= 0.03\n"
     ]
    },
    {
     "name": "stderr",
     "output_type": "stream",
     "text": [
      "100%|██████████| 100/100 [00:57<00:00,  1.74it/s]\n"
     ]
    },
    {
     "name": "stdout",
     "output_type": "stream",
     "text": [
      "eps, d, n= 0.02 5 500 , metrics= 0.0\n"
     ]
    },
    {
     "name": "stderr",
     "output_type": "stream",
     "text": [
      "100%|██████████| 100/100 [00:46<00:00,  2.15it/s]\n"
     ]
    },
    {
     "name": "stdout",
     "output_type": "stream",
     "text": [
      "eps, d, n= 0.02 10 100 , metrics= 0.02\n"
     ]
    },
    {
     "name": "stderr",
     "output_type": "stream",
     "text": [
      "100%|██████████| 100/100 [01:17<00:00,  1.29it/s]\n"
     ]
    },
    {
     "name": "stdout",
     "output_type": "stream",
     "text": [
      "eps, d, n= 0.02 10 200 , metrics= 0.02\n"
     ]
    },
    {
     "name": "stderr",
     "output_type": "stream",
     "text": [
      "100%|██████████| 100/100 [4:02:44<00:00, 145.65s/it]   \n"
     ]
    },
    {
     "name": "stdout",
     "output_type": "stream",
     "text": [
      "eps, d, n= 0.02 10 300 , metrics= 0.02\n"
     ]
    },
    {
     "name": "stderr",
     "output_type": "stream",
     "text": [
      "100%|██████████| 100/100 [6:08:06<00:00, 220.86s/it]   \n"
     ]
    },
    {
     "name": "stdout",
     "output_type": "stream",
     "text": [
      "eps, d, n= 0.02 10 400 , metrics= 0.0\n"
     ]
    },
    {
     "name": "stderr",
     "output_type": "stream",
     "text": [
      "100%|██████████| 100/100 [28:10<00:00, 16.90s/it]  \n"
     ]
    },
    {
     "name": "stdout",
     "output_type": "stream",
     "text": [
      "eps, d, n= 0.02 10 500 , metrics= 0.02\n"
     ]
    },
    {
     "name": "stderr",
     "output_type": "stream",
     "text": [
      "100%|██████████| 100/100 [01:18<00:00,  1.27it/s]\n"
     ]
    },
    {
     "name": "stdout",
     "output_type": "stream",
     "text": [
      "eps, d, n= 0.02 15 100 , metrics= 0.02\n"
     ]
    },
    {
     "name": "stderr",
     "output_type": "stream",
     "text": [
      "100%|██████████| 100/100 [01:58<00:00,  1.19s/it]\n"
     ]
    },
    {
     "name": "stdout",
     "output_type": "stream",
     "text": [
      "eps, d, n= 0.02 15 200 , metrics= 0.03\n"
     ]
    },
    {
     "name": "stderr",
     "output_type": "stream",
     "text": [
      "100%|██████████| 100/100 [02:47<00:00,  1.67s/it]\n"
     ]
    },
    {
     "name": "stdout",
     "output_type": "stream",
     "text": [
      "eps, d, n= 0.02 15 300 , metrics= 0.03\n"
     ]
    },
    {
     "name": "stderr",
     "output_type": "stream",
     "text": [
      "100%|██████████| 100/100 [03:10<00:00,  1.90s/it]\n"
     ]
    },
    {
     "name": "stdout",
     "output_type": "stream",
     "text": [
      "eps, d, n= 0.02 15 400 , metrics= 0.02\n"
     ]
    },
    {
     "name": "stderr",
     "output_type": "stream",
     "text": [
      "100%|██████████| 100/100 [03:27<00:00,  2.07s/it]\n"
     ]
    },
    {
     "name": "stdout",
     "output_type": "stream",
     "text": [
      "eps, d, n= 0.02 15 500 , metrics= 0.02\n"
     ]
    },
    {
     "name": "stderr",
     "output_type": "stream",
     "text": [
      "100%|██████████| 100/100 [02:00<00:00,  1.21s/it]\n"
     ]
    },
    {
     "name": "stdout",
     "output_type": "stream",
     "text": [
      "eps, d, n= 0.02 20 100 , metrics= 0.03\n"
     ]
    },
    {
     "name": "stderr",
     "output_type": "stream",
     "text": [
      "100%|██████████| 100/100 [02:28<00:00,  1.49s/it]\n"
     ]
    },
    {
     "name": "stdout",
     "output_type": "stream",
     "text": [
      "eps, d, n= 0.02 20 200 , metrics= 0.03\n"
     ]
    },
    {
     "name": "stderr",
     "output_type": "stream",
     "text": [
      "100%|██████████| 100/100 [03:24<00:00,  2.05s/it]\n"
     ]
    },
    {
     "name": "stdout",
     "output_type": "stream",
     "text": [
      "eps, d, n= 0.02 20 300 , metrics= 0.0\n"
     ]
    },
    {
     "name": "stderr",
     "output_type": "stream",
     "text": [
      "100%|██████████| 100/100 [04:50<00:00,  2.90s/it]\n"
     ]
    },
    {
     "name": "stdout",
     "output_type": "stream",
     "text": [
      "eps, d, n= 0.02 20 400 , metrics= 0.02\n"
     ]
    },
    {
     "name": "stderr",
     "output_type": "stream",
     "text": [
      "100%|██████████| 100/100 [05:53<00:00,  3.54s/it]"
     ]
    },
    {
     "name": "stdout",
     "output_type": "stream",
     "text": [
      "eps, d, n= 0.02 20 500 , metrics= 0.01\n"
     ]
    },
    {
     "name": "stderr",
     "output_type": "stream",
     "text": [
      "\n"
     ]
    }
   ],
   "source": [
    "eps = 0.02 # change to 0.04 for 2nd plot\n",
    "\n",
    "eps_max, eps_thrsh = eps/(4*max_iter), eps/4\n",
    "cum_eps = 2*(max_iter*eps_max + eps_thrsh)\n",
    "\n",
    "for d_iter in range(results_rand.shape[0]):\n",
    "    for n_iter in range(results_rand.shape[1]):\n",
    "\n",
    "        if results_rand[d_iter, n_iter] != 0:\n",
    "            continue\n",
    "\n",
    "        d, n = d_inc * (d_iter+1), n_inc * (n_iter+1)\n",
    "\n",
    "        err_lvl_adj = alpha_tilde(err_lvl, eps, n)\n",
    "\n",
    "        for trial in tqdm(range(trials)):\n",
    "            np.random.seed(trial)\n",
    "            G = dag_avg_deg(d, avg_deg, w_min=2, w_max=4)\n",
    "            data = LGANM(G, (0,0), (1,1)).sample(n=n) \n",
    "\n",
    "            cpdag_estimate, _ = noisy_fit(HuberScore(data, delta=delta), eps_max=eps_max, eps_thrsh=eps_thrsh, max_iter=max_iter)\n",
    "\n",
    "            results_rand[d_iter, n_iter] += (1-is_valid(data, cpdag_estimate, err_lvl_adj, G))\n",
    "                                            # To get true effect coverage replace the above with \n",
    "                                            # is_valid(data, cpdag_estimate, err_lvl, G, true_effect=True)\n",
    "                    \n",
    "        results_rand[d_iter, n_iter] /= trials\n",
    "        print(\"eps, d, n=\", eps, d, n, \", metrics=\", results_rand[d_iter, n_iter])"
   ]
  },
  {
   "cell_type": "markdown",
   "metadata": {},
   "source": [
    "[NOTE]: To get the true effect coverage, simply add the flag true_effect=True in the is_valid function, as per the comment."
   ]
  },
  {
   "cell_type": "code",
   "execution_count": 4,
   "metadata": {},
   "outputs": [],
   "source": [
    "d_list = (np.arange(4)+1)*d_inc\n",
    "n_list = (np.arange(5)+1)*n_inc"
   ]
  },
  {
   "cell_type": "code",
   "execution_count": 5,
   "metadata": {},
   "outputs": [
    {
     "data": {
      "image/png": "[encoded data removed]",
      "text/plain": [
       "<Figure size 504x360 with 1 Axes>"
      ]
     },
     "metadata": {
      "needs_background": "light"
     },
     "output_type": "display_data"
    }
   ],
   "source": [
    "plt.figure(figsize=(7, 5))\n",
    "colors=['darkorchid', 'royalblue', 'firebrick', 'darkorange', 'forestgreen']\n",
    "for d_iter in range(4):\n",
    "    d = d_inc * (d_iter+1)\n",
    "    plt.plot(n_list, results_rand[d_iter], color=colors[d_iter], label=\"d = \" + str(d), linewidth=2)\n",
    "plt.plot(n_list, err_lvl*np.ones(5), '--', color=\"black\", linewidth=2)\n",
    "plt.xlabel(\"sample size\", fontsize=20)\n",
    "plt.xticks(fontsize=14)\n",
    "plt.ylabel(\"error probability\", fontsize=20)\n",
    "plt.yticks(fontsize=14)\n",
    "plt.legend(fontsize=16)\n",
    "plt.title(\"Noisy GES ($\\epsilon=0.02$)\", fontsize=20)\n",
    "plt.ylim((0.0, 0.5))\n",
    "plt.tight_layout()\n",
    "plt.savefig('noisy-ges-proj-eps002.pdf')"
   ]
  }
 ],
 "metadata": {
  "kernelspec": {
   "display_name": "Python 3",
   "language": "python",
   "name": "python3"
  },
  "language_info": {
   "codemirror_mode": {
    "name": "ipython",
    "version": 3
   },
   "file_extension": ".py",
   "mimetype": "text/x-python",
   "name": "python",
   "nbconvert_exporter": "python",
   "pygments_lexer": "ipython3",
   "version": "3.8.3"
  }
 },
 "nbformat": 4,
 "nbformat_minor": 4
}
