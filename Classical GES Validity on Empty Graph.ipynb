{
 "cells": [
  {
   "cell_type": "code",
   "execution_count": 1,
   "metadata": {},
   "outputs": [],
   "source": [
    "from tqdm import tqdm \n",
    "import numpy as np\n",
    "\n",
    "import statistics as stats\n",
    "\n",
    "from sempler.generators import dag_avg_deg\n",
    "from sempler import LGANM\n",
    "\n",
    "import ges\n",
    "from scores import HuberScore\n",
    "from our_utils import *\n",
    "\n",
    "import matplotlib.pyplot as plt \n",
    "\n",
    "from noisy_causal_discovery import *"
   ]
  },
  {
   "cell_type": "markdown",
   "metadata": {},
   "source": [
    "## Empty Graph Experiment"
   ]
  },
  {
   "cell_type": "code",
   "execution_count": 2,
   "metadata": {},
   "outputs": [],
   "source": [
    "# setting experimental parameters\n",
    "trials = 100\n",
    "avg_deg = 1\n",
    "err_lvl = 0.05\n",
    "\n",
    "# setting dimension and sample increments\n",
    "d_inc = 5\n",
    "n_inc = 100\n",
    "\n",
    "#initializing results matrix\n",
    "results_rand = np.zeros((4, 5))"
   ]
  },
  {
   "cell_type": "code",
   "execution_count": 3,
   "metadata": {
    "scrolled": false
   },
   "outputs": [
    {
     "name": "stderr",
     "output_type": "stream",
     "text": [
      "100%|██████████| 100/100 [00:07<00:00, 12.61it/s]\n"
     ]
    },
    {
     "name": "stdout",
     "output_type": "stream",
     "text": [
      "d, n= 5 100 , metrics= 0.14\n"
     ]
    },
    {
     "name": "stderr",
     "output_type": "stream",
     "text": [
      "100%|██████████| 100/100 [00:07<00:00, 12.74it/s]\n"
     ]
    },
    {
     "name": "stdout",
     "output_type": "stream",
     "text": [
      "d, n= 5 200 , metrics= 0.07\n"
     ]
    },
    {
     "name": "stderr",
     "output_type": "stream",
     "text": [
      "100%|██████████| 100/100 [00:07<00:00, 12.97it/s]\n"
     ]
    },
    {
     "name": "stdout",
     "output_type": "stream",
     "text": [
      "d, n= 5 300 , metrics= 0.11\n"
     ]
    },
    {
     "name": "stderr",
     "output_type": "stream",
     "text": [
      "100%|██████████| 100/100 [00:08<00:00, 11.23it/s]\n"
     ]
    },
    {
     "name": "stdout",
     "output_type": "stream",
     "text": [
      "d, n= 5 400 , metrics= 0.08\n"
     ]
    },
    {
     "name": "stderr",
     "output_type": "stream",
     "text": [
      "100%|██████████| 100/100 [00:08<00:00, 12.09it/s]\n"
     ]
    },
    {
     "name": "stdout",
     "output_type": "stream",
     "text": [
      "d, n= 5 500 , metrics= 0.1\n"
     ]
    },
    {
     "name": "stderr",
     "output_type": "stream",
     "text": [
      "100%|██████████| 100/100 [01:30<00:00,  1.10it/s]\n"
     ]
    },
    {
     "name": "stdout",
     "output_type": "stream",
     "text": [
      "d, n= 10 100 , metrics= 0.16\n"
     ]
    },
    {
     "name": "stderr",
     "output_type": "stream",
     "text": [
      "100%|██████████| 100/100 [01:40<00:00,  1.01s/it]\n"
     ]
    },
    {
     "name": "stdout",
     "output_type": "stream",
     "text": [
      "d, n= 10 200 , metrics= 0.13\n"
     ]
    },
    {
     "name": "stderr",
     "output_type": "stream",
     "text": [
      "100%|██████████| 100/100 [01:58<00:00,  1.19s/it]\n"
     ]
    },
    {
     "name": "stdout",
     "output_type": "stream",
     "text": [
      "d, n= 10 300 , metrics= 0.17\n"
     ]
    },
    {
     "name": "stderr",
     "output_type": "stream",
     "text": [
      "100%|██████████| 100/100 [01:41<00:00,  1.01s/it]\n"
     ]
    },
    {
     "name": "stdout",
     "output_type": "stream",
     "text": [
      "d, n= 10 400 , metrics= 0.09\n"
     ]
    },
    {
     "name": "stderr",
     "output_type": "stream",
     "text": [
      "100%|██████████| 100/100 [27:16<00:00, 16.37s/it]  \n"
     ]
    },
    {
     "name": "stdout",
     "output_type": "stream",
     "text": [
      "d, n= 10 500 , metrics= 0.09\n"
     ]
    },
    {
     "name": "stderr",
     "output_type": "stream",
     "text": [
      "100%|██████████| 100/100 [43:27<00:00, 26.07s/it]  \n"
     ]
    },
    {
     "name": "stdout",
     "output_type": "stream",
     "text": [
      "d, n= 15 100 , metrics= 0.3\n"
     ]
    },
    {
     "name": "stderr",
     "output_type": "stream",
     "text": [
      "100%|██████████| 100/100 [06:12<00:00,  3.72s/it]\n"
     ]
    },
    {
     "name": "stdout",
     "output_type": "stream",
     "text": [
      "d, n= 15 200 , metrics= 0.21\n"
     ]
    },
    {
     "name": "stderr",
     "output_type": "stream",
     "text": [
      "100%|██████████| 100/100 [05:55<00:00,  3.56s/it]\n"
     ]
    },
    {
     "name": "stdout",
     "output_type": "stream",
     "text": [
      "d, n= 15 300 , metrics= 0.17\n"
     ]
    },
    {
     "name": "stderr",
     "output_type": "stream",
     "text": [
      "100%|██████████| 100/100 [05:30<00:00,  3.30s/it]\n"
     ]
    },
    {
     "name": "stdout",
     "output_type": "stream",
     "text": [
      "d, n= 15 400 , metrics= 0.18\n"
     ]
    },
    {
     "name": "stderr",
     "output_type": "stream",
     "text": [
      "100%|██████████| 100/100 [05:13<00:00,  3.13s/it]\n"
     ]
    },
    {
     "name": "stdout",
     "output_type": "stream",
     "text": [
      "d, n= 15 500 , metrics= 0.17\n"
     ]
    },
    {
     "name": "stderr",
     "output_type": "stream",
     "text": [
      "100%|██████████| 100/100 [18:03<00:00, 10.84s/it]\n"
     ]
    },
    {
     "name": "stdout",
     "output_type": "stream",
     "text": [
      "d, n= 20 100 , metrics= 0.29\n"
     ]
    },
    {
     "name": "stderr",
     "output_type": "stream",
     "text": [
      "100%|██████████| 100/100 [16:20<00:00,  9.80s/it]\n"
     ]
    },
    {
     "name": "stdout",
     "output_type": "stream",
     "text": [
      "d, n= 20 200 , metrics= 0.17\n"
     ]
    },
    {
     "name": "stderr",
     "output_type": "stream",
     "text": [
      "100%|██████████| 100/100 [22:56<00:00, 13.76s/it]  \n"
     ]
    },
    {
     "name": "stdout",
     "output_type": "stream",
     "text": [
      "d, n= 20 300 , metrics= 0.23\n"
     ]
    },
    {
     "name": "stderr",
     "output_type": "stream",
     "text": [
      "100%|██████████| 100/100 [1:42:42<00:00, 61.63s/it]  \n"
     ]
    },
    {
     "name": "stdout",
     "output_type": "stream",
     "text": [
      "d, n= 20 400 , metrics= 0.18\n"
     ]
    },
    {
     "name": "stderr",
     "output_type": "stream",
     "text": [
      "100%|██████████| 100/100 [14:52<00:00,  8.92s/it]"
     ]
    },
    {
     "name": "stdout",
     "output_type": "stream",
     "text": [
      "d, n= 20 500 , metrics= 0.13\n"
     ]
    },
    {
     "name": "stderr",
     "output_type": "stream",
     "text": [
      "\n"
     ]
    }
   ],
   "source": [
    "for d_iter in range(results_rand.shape[0]):\n",
    "    for n_iter in range(results_rand.shape[1]):\n",
    "\n",
    "        if results_rand[d_iter, n_iter] != 0:\n",
    "            continue\n",
    "\n",
    "        d, n = d_inc * (d_iter+1), n_inc * (n_iter+1)\n",
    "\n",
    "        for trial in tqdm(range(trials)):\n",
    "            G = np.zeros((d,d))\n",
    "            data = LGANM(G, (0,0), (1,1)).sample(n=n)\n",
    "\n",
    "            cpdag_estimate, _ = noisy_fit(HuberScore(data)) # change to HuberScore(data, delta=0.5) \n",
    "                                                            # to see behavior of classical GES with\n",
    "                                                            # the Huber score used in the paper.\n",
    "\n",
    "            results_rand[d_iter, n_iter] += (1-is_valid(data, cpdag_estimate, err_lvl, G))\n",
    "\n",
    "        results_rand[d_iter, n_iter] /= trials\n",
    "        print(\"d, n=\", d, n, \", metrics=\", results_rand[d_iter, n_iter])"
   ]
  },
  {
   "cell_type": "markdown",
   "metadata": {},
   "source": [
    "[NOTE]: To get the plots for classical GES with the Huber Score simply add delta=0.5 in the HuberScore specification above, as per the comment. (by default delta is set to infinity which is equivalent to the BIC score)."
   ]
  },
  {
   "cell_type": "code",
   "execution_count": 4,
   "metadata": {},
   "outputs": [],
   "source": [
    "d_list = (np.arange(4)+1)*d_inc\n",
    "n_list = (np.arange(5)+1)*n_inc"
   ]
  },
  {
   "cell_type": "code",
   "execution_count": 6,
   "metadata": {},
   "outputs": [
    {
     "data": {
      "image/png": "[encoded data removed]",
      "text/plain": [
       "<Figure size 504x360 with 1 Axes>"
      ]
     },
     "metadata": {
      "needs_background": "light"
     },
     "output_type": "display_data"
    }
   ],
   "source": [
    "plt.figure(figsize=(7, 5))\n",
    "colors=['darkorchid', 'royalblue', 'firebrick', 'darkorange', 'forestgreen']\n",
    "for d_iter in range(4):\n",
    "    d = d_inc * (d_iter+1)\n",
    "    plt.plot(n_list, results_rand[d_iter], color=colors[d_iter], label=\"d = \" + str(d), linewidth=2)\n",
    "plt.plot(n_list, err_lvl*np.ones(5), '--', color=\"black\", linewidth=2)\n",
    "plt.xlabel(\"sample size\", fontsize=20)\n",
    "plt.xticks(fontsize=14)\n",
    "plt.ylabel(\"error probability\", fontsize=20)\n",
    "plt.yticks(fontsize=14)\n",
    "plt.legend(fontsize=16)\n",
    "plt.title(\"Classical GES\", fontsize=20)\n",
    "plt.ylim((0.0, 0.5))\n",
    "plt.tight_layout()"
   ]
  }
 ],
 "metadata": {
  "kernelspec": {
   "display_name": "Python 3",
   "language": "python",
   "name": "python3"
  },
  "language_info": {
   "codemirror_mode": {
    "name": "ipython",
    "version": 3
   },
   "file_extension": ".py",
   "mimetype": "text/x-python",
   "name": "python",
   "nbconvert_exporter": "python",
   "pygments_lexer": "ipython3",
   "version": "3.8.3"
  }
 },
 "nbformat": 4,
 "nbformat_minor": 4
}
