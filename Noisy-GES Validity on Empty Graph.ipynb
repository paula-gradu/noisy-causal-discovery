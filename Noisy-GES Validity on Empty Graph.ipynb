{
 "cells": [
  {
   "cell_type": "code",
   "execution_count": 1,
   "metadata": {},
   "outputs": [],
   "source": [
    "from tqdm import tqdm \n",
    "import numpy as np\n",
    "\n",
    "import statistics as stats\n",
    "\n",
    "from sempler.generators import dag_avg_deg\n",
    "from sempler import LGANM\n",
    "\n",
    "import ges\n",
    "from scores import HuberScore\n",
    "from our_utils import *\n",
    "\n",
    "import matplotlib.pyplot as plt\n",
    "\n",
    "from noisy_causal_discovery import noisy_fit, alpha_tilde"
   ]
  },
  {
   "cell_type": "code",
   "execution_count": 2,
   "metadata": {},
   "outputs": [],
   "source": [
    "# setting experimental parameters\n",
    "trials = 100\n",
    "avg_deg = 1\n",
    "err_lvl = 0.05\n",
    "\n",
    "# setting parameters to noisy GES\n",
    "max_iter = 5\n",
    "delta = 0.5\n",
    "\n",
    "# setting dimension and sample increments\n",
    "d_inc = 5\n",
    "n_inc = 100\n",
    "\n",
    "#initializing results matrix\n",
    "results_rand = np.zeros((4, 5))"
   ]
  },
  {
   "cell_type": "code",
   "execution_count": 3,
   "metadata": {
    "scrolled": true
   },
   "outputs": [
    {
     "name": "stderr",
     "output_type": "stream",
     "text": [
      "100%|██████████| 100/100 [00:13<00:00,  7.61it/s]\n"
     ]
    },
    {
     "name": "stdout",
     "output_type": "stream",
     "text": [
      "eps, d, n= 0.02 5 100 , metrics= 0.04\n"
     ]
    },
    {
     "name": "stderr",
     "output_type": "stream",
     "text": [
      "100%|██████████| 100/100 [00:16<00:00,  5.94it/s]\n"
     ]
    },
    {
     "name": "stdout",
     "output_type": "stream",
     "text": [
      "eps, d, n= 0.02 5 200 , metrics= 0.01\n"
     ]
    },
    {
     "name": "stderr",
     "output_type": "stream",
     "text": [
      "100%|██████████| 100/100 [00:19<00:00,  5.20it/s]\n"
     ]
    },
    {
     "name": "stdout",
     "output_type": "stream",
     "text": [
      "eps, d, n= 0.02 5 300 , metrics= 0.01\n"
     ]
    },
    {
     "name": "stderr",
     "output_type": "stream",
     "text": [
      "100%|██████████| 100/100 [00:22<00:00,  4.48it/s]\n"
     ]
    },
    {
     "name": "stdout",
     "output_type": "stream",
     "text": [
      "eps, d, n= 0.02 5 400 , metrics= 0.01\n"
     ]
    },
    {
     "name": "stderr",
     "output_type": "stream",
     "text": [
      "100%|██████████| 100/100 [00:21<00:00,  4.57it/s]\n"
     ]
    },
    {
     "name": "stdout",
     "output_type": "stream",
     "text": [
      "eps, d, n= 0.02 5 500 , metrics= 0.03\n"
     ]
    },
    {
     "name": "stderr",
     "output_type": "stream",
     "text": [
      "100%|██████████| 100/100 [00:29<00:00,  3.39it/s]\n"
     ]
    },
    {
     "name": "stdout",
     "output_type": "stream",
     "text": [
      "eps, d, n= 0.02 10 100 , metrics= 0.03\n"
     ]
    },
    {
     "name": "stderr",
     "output_type": "stream",
     "text": [
      "100%|██████████| 100/100 [00:42<00:00,  2.34it/s]\n"
     ]
    },
    {
     "name": "stdout",
     "output_type": "stream",
     "text": [
      "eps, d, n= 0.02 10 200 , metrics= 0.02\n"
     ]
    },
    {
     "name": "stderr",
     "output_type": "stream",
     "text": [
      "100%|██████████| 100/100 [01:04<00:00,  1.56it/s]\n"
     ]
    },
    {
     "name": "stdout",
     "output_type": "stream",
     "text": [
      "eps, d, n= 0.02 10 300 , metrics= 0.03\n"
     ]
    },
    {
     "name": "stderr",
     "output_type": "stream",
     "text": [
      "100%|██████████| 100/100 [01:17<00:00,  1.29it/s]\n"
     ]
    },
    {
     "name": "stdout",
     "output_type": "stream",
     "text": [
      "eps, d, n= 0.02 10 400 , metrics= 0.01\n"
     ]
    },
    {
     "name": "stderr",
     "output_type": "stream",
     "text": [
      "100%|██████████| 100/100 [01:15<00:00,  1.33it/s]\n"
     ]
    },
    {
     "name": "stdout",
     "output_type": "stream",
     "text": [
      "eps, d, n= 0.02 10 500 , metrics= 0.03\n"
     ]
    },
    {
     "name": "stderr",
     "output_type": "stream",
     "text": [
      "100%|██████████| 100/100 [00:58<00:00,  1.70it/s]\n"
     ]
    },
    {
     "name": "stdout",
     "output_type": "stream",
     "text": [
      "eps, d, n= 0.02 15 100 , metrics= 0.02\n"
     ]
    },
    {
     "name": "stderr",
     "output_type": "stream",
     "text": [
      "100%|██████████| 100/100 [01:09<00:00,  1.44it/s]\n"
     ]
    },
    {
     "name": "stdout",
     "output_type": "stream",
     "text": [
      "eps, d, n= 0.02 15 200 , metrics= 0.02\n"
     ]
    },
    {
     "name": "stderr",
     "output_type": "stream",
     "text": [
      "100%|██████████| 100/100 [01:50<00:00,  1.10s/it]\n"
     ]
    },
    {
     "name": "stdout",
     "output_type": "stream",
     "text": [
      "eps, d, n= 0.02 15 300 , metrics= 0.05\n"
     ]
    },
    {
     "name": "stderr",
     "output_type": "stream",
     "text": [
      "100%|██████████| 100/100 [02:11<00:00,  1.31s/it]\n"
     ]
    },
    {
     "name": "stdout",
     "output_type": "stream",
     "text": [
      "eps, d, n= 0.02 15 400 , metrics= 0.04\n"
     ]
    },
    {
     "name": "stderr",
     "output_type": "stream",
     "text": [
      "100%|██████████| 100/100 [02:18<00:00,  1.38s/it]\n"
     ]
    },
    {
     "name": "stdout",
     "output_type": "stream",
     "text": [
      "eps, d, n= 0.02 15 500 , metrics= 0.02\n"
     ]
    },
    {
     "name": "stderr",
     "output_type": "stream",
     "text": [
      "100%|██████████| 100/100 [01:52<00:00,  1.13s/it]\n"
     ]
    },
    {
     "name": "stdout",
     "output_type": "stream",
     "text": [
      "eps, d, n= 0.02 20 100 , metrics= 0.04\n"
     ]
    },
    {
     "name": "stderr",
     "output_type": "stream",
     "text": [
      "100%|██████████| 100/100 [01:54<00:00,  1.15s/it]\n"
     ]
    },
    {
     "name": "stdout",
     "output_type": "stream",
     "text": [
      "eps, d, n= 0.02 20 200 , metrics= 0.02\n"
     ]
    },
    {
     "name": "stderr",
     "output_type": "stream",
     "text": [
      "100%|██████████| 100/100 [02:27<00:00,  1.47s/it]\n"
     ]
    },
    {
     "name": "stdout",
     "output_type": "stream",
     "text": [
      "eps, d, n= 0.02 20 300 , metrics= 0.01\n"
     ]
    },
    {
     "name": "stderr",
     "output_type": "stream",
     "text": [
      "100%|██████████| 100/100 [03:08<00:00,  1.89s/it]\n"
     ]
    },
    {
     "name": "stdout",
     "output_type": "stream",
     "text": [
      "eps, d, n= 0.02 20 400 , metrics= 0.01\n"
     ]
    },
    {
     "name": "stderr",
     "output_type": "stream",
     "text": [
      "100%|██████████| 100/100 [04:05<00:00,  2.46s/it]"
     ]
    },
    {
     "name": "stdout",
     "output_type": "stream",
     "text": [
      "eps, d, n= 0.02 20 500 , metrics= 0.06\n"
     ]
    },
    {
     "name": "stderr",
     "output_type": "stream",
     "text": [
      "\n"
     ]
    }
   ],
   "source": [
    "eps = 0.02 # change to 0.04 for 2nd plot\n",
    "\n",
    "eps_max, eps_thrsh = eps/(4*max_iter), eps/4\n",
    "cum_eps = 2*(max_iter*eps_max + eps_thrsh)\n",
    "\n",
    "for d_iter in range(results_rand.shape[0]):\n",
    "    for n_iter in range(results_rand.shape[1]):\n",
    "\n",
    "        if results_rand[d_iter, n_iter] != 0:\n",
    "            continue\n",
    "\n",
    "        d, n = d_inc * (d_iter+1), n_inc * (n_iter+1)\n",
    "\n",
    "        err_lvl_adj = alpha_tilde(err_lvl, eps, n)\n",
    "\n",
    "        for trial in tqdm(range(trials)):\n",
    "            G = np.zeros((d,d))\n",
    "            data = LGANM(G, (0,0), (1,1)).sample(n=n)\n",
    "\n",
    "            cpdag_estimate, _ = noisy_fit(HuberScore(data, delta=delta), eps_max=eps_max, eps_thrsh=eps_thrsh, max_iter=max_iter)\n",
    "\n",
    "            results_rand[d_iter, n_iter] += (1-is_valid(data, cpdag_estimate, err_lvl_adj, G))\n",
    "\n",
    "        results_rand[d_iter, n_iter] /= trials\n",
    "        print(\"eps, d, n=\", eps, d, n, \", metrics=\", results_rand[d_iter, n_iter])"
   ]
  },
  {
   "cell_type": "code",
   "execution_count": 4,
   "metadata": {},
   "outputs": [],
   "source": [
    "d_list = (np.arange(4)+1)*d_inc\n",
    "n_list = (np.arange(5)+1)*n_inc"
   ]
  },
  {
   "cell_type": "code",
   "execution_count": 5,
   "metadata": {},
   "outputs": [
    {
     "data": {
      "image/png": "[encoded data removed]",
      "text/plain": [
       "<Figure size 504x360 with 1 Axes>"
      ]
     },
     "metadata": {
      "needs_background": "light"
     },
     "output_type": "display_data"
    }
   ],
   "source": [
    "plt.figure(figsize=(7, 5))\n",
    "colors=['darkorchid', 'royalblue', 'firebrick', 'darkorange', 'forestgreen']\n",
    "for d_iter in range(4):\n",
    "    d = d_inc * (d_iter+1)\n",
    "    plt.plot(n_list, results_rand[d_iter], color=colors[d_iter], label=\"d = \" + str(d), linewidth=2)\n",
    "plt.plot(n_list, err_lvl*np.ones(5), '--', color=\"black\", linewidth=2)\n",
    "plt.xlabel(\"sample size\", fontsize=20)\n",
    "plt.xticks(fontsize=14)\n",
    "plt.ylabel(\"error probability\", fontsize=20)\n",
    "plt.yticks(fontsize=14)\n",
    "plt.legend(fontsize=16)\n",
    "plt.title(\"Noisy GES ($\\epsilon=0.02$)\", fontsize=20)\n",
    "plt.ylim((0.0, 0.5))\n",
    "plt.tight_layout()\n",
    "plt.savefig('noisy-ges-eps002-empty.pdf');"
   ]
  }
 ],
 "metadata": {
  "kernelspec": {
   "display_name": "Python 3",
   "language": "python",
   "name": "python3"
  },
  "language_info": {
   "codemirror_mode": {
    "name": "ipython",
    "version": 3
   },
   "file_extension": ".py",
   "mimetype": "text/x-python",
   "name": "python",
   "nbconvert_exporter": "python",
   "pygments_lexer": "ipython3",
   "version": "3.8.3"
  }
 },
 "nbformat": 4,
 "nbformat_minor": 4
}
