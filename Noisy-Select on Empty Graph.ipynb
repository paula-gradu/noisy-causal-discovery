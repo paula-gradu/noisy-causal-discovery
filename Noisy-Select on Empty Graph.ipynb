{
 "cells": [
  {
   "cell_type": "code",
   "execution_count": 1,
   "metadata": {},
   "outputs": [],
   "source": [
    "from tqdm import tqdm \n",
    "import numpy as np\n",
    "\n",
    "from sempler.generators import dag_avg_deg\n",
    "from sempler import LGANM\n",
    "from numpy.random import laplace\n",
    "\n",
    "import ges\n",
    "from our_utils import *\n",
    "\n",
    "import matplotlib.pyplot as plt\n",
    "\n",
    "from noisy_causal_discovery import *"
   ]
  },
  {
   "cell_type": "code",
   "execution_count": 2,
   "metadata": {},
   "outputs": [],
   "source": [
    "# setting experimental parameters\n",
    "trials = 100\n",
    "avg_deg = 2\n",
    "err_lvl = 0.05\n",
    "p_add = 0.01\n",
    "no_graphs = 10\n",
    "delta = 0.5\n",
    "\n",
    "\n",
    "# setting dimension and sample increments\n",
    "d_inc = 5\n",
    "n_inc = 50\n",
    "\n",
    "#initializing results matrix\n",
    "results_rand = np.zeros((4, 5))"
   ]
  },
  {
   "cell_type": "code",
   "execution_count": 3,
   "metadata": {},
   "outputs": [
    {
     "name": "stderr",
     "output_type": "stream",
     "text": [
      "100%|██████████| 100/100 [00:18<00:00,  5.53it/s]\n"
     ]
    },
    {
     "name": "stdout",
     "output_type": "stream",
     "text": [
      "eps, d, n= 0.02 5 50 , metrics= 0.02\n"
     ]
    },
    {
     "name": "stderr",
     "output_type": "stream",
     "text": [
      "100%|██████████| 100/100 [00:17<00:00,  5.76it/s]\n"
     ]
    },
    {
     "name": "stdout",
     "output_type": "stream",
     "text": [
      "eps, d, n= 0.02 5 100 , metrics= 0.03\n"
     ]
    },
    {
     "name": "stderr",
     "output_type": "stream",
     "text": [
      "100%|██████████| 100/100 [00:17<00:00,  5.74it/s]\n"
     ]
    },
    {
     "name": "stdout",
     "output_type": "stream",
     "text": [
      "eps, d, n= 0.02 5 150 , metrics= 0.02\n"
     ]
    },
    {
     "name": "stderr",
     "output_type": "stream",
     "text": [
      "100%|██████████| 100/100 [00:16<00:00,  6.17it/s]\n"
     ]
    },
    {
     "name": "stdout",
     "output_type": "stream",
     "text": [
      "eps, d, n= 0.02 5 200 , metrics= 0.03\n"
     ]
    },
    {
     "name": "stderr",
     "output_type": "stream",
     "text": [
      "100%|██████████| 100/100 [00:16<00:00,  6.01it/s]\n"
     ]
    },
    {
     "name": "stdout",
     "output_type": "stream",
     "text": [
      "eps, d, n= 0.02 5 250 , metrics= 0.03\n"
     ]
    },
    {
     "name": "stderr",
     "output_type": "stream",
     "text": [
      "100%|██████████| 100/100 [00:24<00:00,  4.09it/s]\n"
     ]
    },
    {
     "name": "stdout",
     "output_type": "stream",
     "text": [
      "eps, d, n= 0.02 10 50 , metrics= 0.05\n"
     ]
    },
    {
     "name": "stderr",
     "output_type": "stream",
     "text": [
      "100%|██████████| 100/100 [00:24<00:00,  4.02it/s]\n"
     ]
    },
    {
     "name": "stdout",
     "output_type": "stream",
     "text": [
      "eps, d, n= 0.02 10 100 , metrics= 0.03\n"
     ]
    },
    {
     "name": "stderr",
     "output_type": "stream",
     "text": [
      "100%|██████████| 100/100 [00:22<00:00,  4.38it/s]\n"
     ]
    },
    {
     "name": "stdout",
     "output_type": "stream",
     "text": [
      "eps, d, n= 0.02 10 150 , metrics= 0.01\n"
     ]
    },
    {
     "name": "stderr",
     "output_type": "stream",
     "text": [
      "100%|██████████| 100/100 [00:20<00:00,  4.80it/s]\n"
     ]
    },
    {
     "name": "stdout",
     "output_type": "stream",
     "text": [
      "eps, d, n= 0.02 10 200 , metrics= 0.04\n"
     ]
    },
    {
     "name": "stderr",
     "output_type": "stream",
     "text": [
      "100%|██████████| 100/100 [00:21<00:00,  4.64it/s]\n"
     ]
    },
    {
     "name": "stdout",
     "output_type": "stream",
     "text": [
      "eps, d, n= 0.02 10 250 , metrics= 0.02\n"
     ]
    },
    {
     "name": "stderr",
     "output_type": "stream",
     "text": [
      "100%|██████████| 100/100 [00:33<00:00,  2.95it/s]\n"
     ]
    },
    {
     "name": "stdout",
     "output_type": "stream",
     "text": [
      "eps, d, n= 0.02 15 50 , metrics= 0.03\n"
     ]
    },
    {
     "name": "stderr",
     "output_type": "stream",
     "text": [
      "100%|██████████| 100/100 [00:31<00:00,  3.18it/s]\n"
     ]
    },
    {
     "name": "stdout",
     "output_type": "stream",
     "text": [
      "eps, d, n= 0.02 15 100 , metrics= 0.02\n"
     ]
    },
    {
     "name": "stderr",
     "output_type": "stream",
     "text": [
      "100%|██████████| 100/100 [00:32<00:00,  3.11it/s]\n"
     ]
    },
    {
     "name": "stdout",
     "output_type": "stream",
     "text": [
      "eps, d, n= 0.02 15 150 , metrics= 0.06\n"
     ]
    },
    {
     "name": "stderr",
     "output_type": "stream",
     "text": [
      "100%|██████████| 100/100 [00:31<00:00,  3.14it/s]\n"
     ]
    },
    {
     "name": "stdout",
     "output_type": "stream",
     "text": [
      "eps, d, n= 0.02 15 200 , metrics= 0.03\n"
     ]
    },
    {
     "name": "stderr",
     "output_type": "stream",
     "text": [
      "100%|██████████| 100/100 [00:31<00:00,  3.18it/s]\n"
     ]
    },
    {
     "name": "stdout",
     "output_type": "stream",
     "text": [
      "eps, d, n= 0.02 15 250 , metrics= 0.01\n"
     ]
    },
    {
     "name": "stderr",
     "output_type": "stream",
     "text": [
      "100%|██████████| 100/100 [00:58<00:00,  1.70it/s]\n"
     ]
    },
    {
     "name": "stdout",
     "output_type": "stream",
     "text": [
      "eps, d, n= 0.02 20 50 , metrics= 0.07\n"
     ]
    },
    {
     "name": "stderr",
     "output_type": "stream",
     "text": [
      "100%|██████████| 100/100 [00:59<00:00,  1.69it/s]\n"
     ]
    },
    {
     "name": "stdout",
     "output_type": "stream",
     "text": [
      "eps, d, n= 0.02 20 100 , metrics= 0.05\n"
     ]
    },
    {
     "name": "stderr",
     "output_type": "stream",
     "text": [
      "100%|██████████| 100/100 [00:59<00:00,  1.67it/s]\n"
     ]
    },
    {
     "name": "stdout",
     "output_type": "stream",
     "text": [
      "eps, d, n= 0.02 20 150 , metrics= 0.05\n"
     ]
    },
    {
     "name": "stderr",
     "output_type": "stream",
     "text": [
      "100%|██████████| 100/100 [00:58<00:00,  1.72it/s]\n"
     ]
    },
    {
     "name": "stdout",
     "output_type": "stream",
     "text": [
      "eps, d, n= 0.02 20 200 , metrics= 0.02\n"
     ]
    },
    {
     "name": "stderr",
     "output_type": "stream",
     "text": [
      "100%|██████████| 100/100 [00:54<00:00,  1.84it/s]"
     ]
    },
    {
     "name": "stdout",
     "output_type": "stream",
     "text": [
      "eps, d, n= 0.02 20 250 , metrics= 0.05\n"
     ]
    },
    {
     "name": "stderr",
     "output_type": "stream",
     "text": [
      "\n"
     ]
    }
   ],
   "source": [
    "eps = 0.02\n",
    "\n",
    "for d_iter in range(results_rand.shape[0]):\n",
    "    for n_iter in range(results_rand.shape[1]):\n",
    "\n",
    "        if results_rand[d_iter, n_iter] != 0:\n",
    "            continue\n",
    "\n",
    "        d, n = d_inc * (d_iter+1), n_inc * (n_iter+1)\n",
    "\n",
    "        err_lvl_adj = alpha_tilde(err_lvl, eps, n)\n",
    "\n",
    "        for trial in tqdm(range(trials)):\n",
    "            np.random.seed(trial)\n",
    "            \n",
    "            G = np.zeros((d,d))\n",
    "            data = LGANM(G, (0,0), (1,1)).sample(n=n)\n",
    "            \n",
    "            G_options = generate_graphs(G, no_graphs, 0, p_add)\n",
    "            \n",
    "            sensitivity = get_sensitivity(data, G_options, delta=delta)\n",
    "            noise_lvl = noise_scale(eps, sensitivity)\n",
    "            noisy_scores = [score(data, G_options[j], delta=delta) + laplace(scale=noise_lvl) for j in range(no_graphs)]\n",
    "            stable_G_est = G_options[np.argmin(noisy_scores)]\n",
    "            \n",
    "            results_rand[d_iter, n_iter] += (1-is_valid_empty(data, stable_G_est, err_lvl_adj, G))\n",
    "\n",
    "        results_rand[d_iter, n_iter] /= trials\n",
    "        print(\"eps, d, n=\", eps, d, n, \", metrics=\", results_rand[d_iter, n_iter])"
   ]
  },
  {
   "cell_type": "code",
   "execution_count": 4,
   "metadata": {},
   "outputs": [],
   "source": [
    "d_list = (np.arange(4)+1)*d_inc\n",
    "n_list = (np.arange(5)+1)*n_inc"
   ]
  },
  {
   "cell_type": "code",
   "execution_count": 5,
   "metadata": {},
   "outputs": [
    {
     "data": {
      "image/png": "[encoded data removed]",
      "text/plain": [
       "<Figure size 504x360 with 1 Axes>"
      ]
     },
     "metadata": {
      "needs_background": "light"
     },
     "output_type": "display_data"
    }
   ],
   "source": [
    "plt.figure(figsize=(7, 5))\n",
    "colors=['darkorchid', 'royalblue', 'firebrick', 'darkorange', 'forestgreen']\n",
    "for d_iter in range(4):\n",
    "    d = d_inc * (d_iter+1)\n",
    "    plt.plot(n_list, results_rand[d_iter], color=colors[d_iter], label=\"d = \" + str(d), linewidth=2)\n",
    "plt.plot(n_list, err_lvl*np.ones(5), '--', color=\"black\", linewidth=2)\n",
    "plt.xlabel(\"sample size\", fontsize=20)\n",
    "plt.xticks(fontsize=14)\n",
    "plt.ylabel(\"error probability\", fontsize=20)\n",
    "plt.yticks(fontsize=14)\n",
    "plt.legend(fontsize=16)\n",
    "plt.title(\"Noisy Select ($\\epsilon = 0.02$)\", fontsize=20)\n",
    "plt.ylim((0.0, 0.5))\n",
    "plt.tight_layout();"
   ]
  }
 ],
 "metadata": {
  "kernelspec": {
   "display_name": "Python 3",
   "language": "python",
   "name": "python3"
  },
  "language_info": {
   "codemirror_mode": {
    "name": "ipython",
    "version": 3
   },
   "file_extension": ".py",
   "mimetype": "text/x-python",
   "name": "python",
   "nbconvert_exporter": "python",
   "pygments_lexer": "ipython3",
   "version": "3.8.3"
  }
 },
 "nbformat": 4,
 "nbformat_minor": 4
}
