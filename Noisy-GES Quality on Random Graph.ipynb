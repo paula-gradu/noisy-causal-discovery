{
 "cells": [
  {
   "cell_type": "code",
   "execution_count": 1,
   "metadata": {},
   "outputs": [
    {
     "name": "stderr",
     "output_type": "stream",
     "text": [
      "No GPU automatically detected. Setting SETTINGS.GPU to 0, and SETTINGS.NJOBS to cpu_count.\n"
     ]
    }
   ],
   "source": [
    "from our_utils import *\n",
    "from noisy_causal_discovery import *\n",
    "\n",
    "from cdt.metrics import SHD_CPDAG\n",
    "import ges\n",
    "import matplotlib.pyplot as plt\n",
    "import numpy as np\n",
    "import sempler\n",
    "from sempler.generators import dag_avg_deg\n",
    "from scores import HuberScore\n",
    "from tqdm import tqdm \n",
    "import numpy as np"
   ]
  },
  {
   "cell_type": "code",
   "execution_count": 2,
   "metadata": {},
   "outputs": [],
   "source": [
    "''' Choose general experiment parameters. '''\n",
    "\n",
    "trials = 100         # no. of trials to average over\n",
    "err_lvl = 0.05       # signficance level\n",
    "delta = 0.5          # delta Huber parameter\n",
    "no_graphs = 10       # number of graph variations\n",
    "n, d = 100, 15       # sample size, graph dimension\n",
    "avg_deg = 1          # average degree\n",
    "\n",
    "split_choices = [0.05, 0.5, 0.95] # splitting baselines\n",
    "\n",
    "eps_choices = [0.01, 0.04, 0.08, 0.16, 0.24] # privacy parameters\n",
    "max_iter = 5 # noisy-ges parameter setting\n",
    "\n",
    "split_shd, noisy_shd = {}, {}        # initialize the SHD results dictionaries\n",
    "split_widths, noisy_widths = {}, {}  # initialize the CI widths results dictionaries"
   ]
  },
  {
   "cell_type": "code",
   "execution_count": 3,
   "metadata": {},
   "outputs": [
    {
     "name": "stderr",
     "output_type": "stream",
     "text": [
      "100%|██████████| 100/100 [22:58<00:00, 13.79s/it]\n"
     ]
    },
    {
     "name": "stdout",
     "output_type": "stream",
     "text": [
      "For split = 0.05 data-splitting attains avg. SHD: 33.98\n",
      "For split = 0.05 data-splitting attains avg. CI widths: 0.56\n"
     ]
    },
    {
     "name": "stderr",
     "output_type": "stream",
     "text": [
      "100%|██████████| 100/100 [21:41<00:00, 13.02s/it]\n"
     ]
    },
    {
     "name": "stdout",
     "output_type": "stream",
     "text": [
      "For split = 0.5 data-splitting attains avg. SHD: 23.62\n",
      "For split = 0.5 data-splitting attains avg. CI widths: 0.79\n"
     ]
    },
    {
     "name": "stderr",
     "output_type": "stream",
     "text": [
      "100%|██████████| 100/100 [21:11<00:00, 12.71s/it]"
     ]
    },
    {
     "name": "stdout",
     "output_type": "stream",
     "text": [
      "For split = 0.95 data-splitting attains avg. SHD: 10.56\n",
      "For split = 0.95 data-splitting attains avg. CI widths: 2.54\n"
     ]
    },
    {
     "name": "stderr",
     "output_type": "stream",
     "text": [
      "\n"
     ]
    }
   ],
   "source": [
    "''' Compute the splitting baselines SHD to graph selected by the full data\n",
    "    and the estimated mean interval width. '''\n",
    "\n",
    "for split in split_choices:\n",
    "\n",
    "    split_shd[(split, delta)] = []\n",
    "    split_widths[(split, delta)] = []\n",
    "\n",
    "    for trial in tqdm(range(trials)):\n",
    "        np.random.seed(trial)\n",
    "\n",
    "        G = dag_avg_deg(d, avg_deg, w_min=2, w_max=4)\n",
    "        data = sempler.LGANM(G, (0,0), (1,1)).sample(n=n)\n",
    "\n",
    "        full_cpdag_estimate, _ = noisy_fit(HuberScore(data, delta=delta))\n",
    "\n",
    "        select_data, infer_data = subsample(data, split)\n",
    "        split_cpdag_estimate, _ = noisy_fit(HuberScore(select_data, delta=delta))\n",
    "\n",
    "        split_shd[(split, delta)].append(np.sum(np.abs(split_cpdag_estimate - full_cpdag_estimate)))\n",
    "\n",
    "        if np.any(split_cpdag_estimate) > 0:\n",
    "            split_widths[(split, delta)].append(get_CI_width(infer_data, split_cpdag_estimate, err_lvl))\n",
    "        else:\n",
    "            split_widths[(split, delta)].append(0)\n",
    "\n",
    "    print(\"For split =\", split,\"data-splitting attains avg. SHD:\", \\\n",
    "          np.round(np.mean(split_shd[(split, delta)]), 2))\n",
    "\n",
    "    print(\"For split =\", split,\"data-splitting attains avg. CI widths:\", \\\n",
    "          np.round(np.mean(split_widths[(split, delta)]), 2))"
   ]
  },
  {
   "cell_type": "code",
   "execution_count": 4,
   "metadata": {
    "scrolled": true
   },
   "outputs": [
    {
     "name": "stderr",
     "output_type": "stream",
     "text": [
      "100%|██████████| 100/100 [11:25<00:00,  6.85s/it]\n"
     ]
    },
    {
     "name": "stdout",
     "output_type": "stream",
     "text": [
      "For eps = 0.01 noisy-ges attains avg. SHD: 28.0\n",
      "For eps = 0.01 noisy-ges attains avg. CI widths: 0.25\n"
     ]
    },
    {
     "name": "stderr",
     "output_type": "stream",
     "text": [
      "100%|██████████| 100/100 [11:28<00:00,  6.88s/it]\n"
     ]
    },
    {
     "name": "stdout",
     "output_type": "stream",
     "text": [
      "For eps = 0.04 noisy-ges attains avg. SHD: 28.22\n",
      "For eps = 0.04 noisy-ges attains avg. CI widths: 0.18\n"
     ]
    },
    {
     "name": "stderr",
     "output_type": "stream",
     "text": [
      "100%|██████████| 100/100 [11:34<00:00,  6.95s/it]\n"
     ]
    },
    {
     "name": "stdout",
     "output_type": "stream",
     "text": [
      "For eps = 0.08 noisy-ges attains avg. SHD: 28.18\n",
      "For eps = 0.08 noisy-ges attains avg. CI widths: 0.21\n"
     ]
    },
    {
     "name": "stderr",
     "output_type": "stream",
     "text": [
      "100%|██████████| 100/100 [11:47<00:00,  7.07s/it]\n"
     ]
    },
    {
     "name": "stdout",
     "output_type": "stream",
     "text": [
      "For eps = 0.16 noisy-ges attains avg. SHD: 28.19\n",
      "For eps = 0.16 noisy-ges attains avg. CI widths: 0.54\n"
     ]
    },
    {
     "name": "stderr",
     "output_type": "stream",
     "text": [
      "100%|██████████| 100/100 [12:11<00:00,  7.32s/it]"
     ]
    },
    {
     "name": "stdout",
     "output_type": "stream",
     "text": [
      "For eps = 0.24 noisy-ges attains avg. SHD: 27.96\n",
      "For eps = 0.24 noisy-ges attains avg. CI widths: 0.79\n"
     ]
    },
    {
     "name": "stderr",
     "output_type": "stream",
     "text": [
      "\n"
     ]
    }
   ],
   "source": [
    "''' Compute the noisy-select SHD to graph selected by the full data\n",
    "    and the estimated mean interval width for varying settings of epsilon. '''\n",
    "\n",
    "for eps in eps_choices:\n",
    "\n",
    "    eps_max = eps / (4 * max_iter)\n",
    "    eps_thrsh = eps / 4\n",
    "\n",
    "    cum_eps = 2*(max_iter*eps_max + eps_thrsh)\n",
    "\n",
    "    err_lvl_adj = alpha_tilde(err_lvl, eps, n)\n",
    "\n",
    "    noisy_shd[(eps, delta)] = []\n",
    "    noisy_widths[(eps, delta)] = []\n",
    "\n",
    "    for trial in tqdm(range(trials)):\n",
    "        np.random.seed(trial)\n",
    "\n",
    "        G = dag_avg_deg(d, avg_deg, w_min=2, w_max=4)\n",
    "        data = sempler.LGANM(G, (0,0), (1,1)).sample(n=n)\n",
    "\n",
    "        full_cpdag_estimate, _ = noisy_fit(HuberScore(data, delta=delta))\n",
    "\n",
    "        noisy_cpdag_estimate, _ = noisy_fit(HuberScore(data, delta=delta), \\\n",
    "                                           eps_max=eps_max, eps_thrsh=eps_thrsh, max_iter=max_iter)\n",
    "\n",
    "        noisy_shd[(eps, delta)].append(np.sum(np.abs(noisy_cpdag_estimate - full_cpdag_estimate)))\n",
    "\n",
    "        if np.any(noisy_cpdag_estimate):\n",
    "            noisy_widths[(eps, delta)].append(get_CI_width(data, noisy_cpdag_estimate, err_lvl_adj))\n",
    "        else:\n",
    "            noisy_widths[(eps, delta)].append(0)\n",
    "\n",
    "    print(\"For eps =\", eps, \"noisy-ges attains avg. SHD:\", \\\n",
    "          np.round(np.mean(noisy_shd[(eps, delta)]), 2))\n",
    "\n",
    "    print(\"For eps =\", eps,\"noisy-ges attains avg. CI widths:\", \\\n",
    "          np.round(np.mean(noisy_widths[(eps, delta)]), 2))"
   ]
  },
  {
   "cell_type": "code",
   "execution_count": 5,
   "metadata": {},
   "outputs": [
    {
     "data": {
      "image/png": "[encoded data removed]",
      "text/plain": [
       "<Figure size 504x360 with 1 Axes>"
      ]
     },
     "metadata": {
      "needs_background": "light"
     },
     "output_type": "display_data"
    },
    {
     "data": {
      "image/png": "[encoded data removed]",
      "text/plain": [
       "<Figure size 504x360 with 1 Axes>"
      ]
     },
     "metadata": {
      "needs_background": "light"
     },
     "output_type": "display_data"
    }
   ],
   "source": [
    "''' Plot the corresponding results. '''\n",
    "\n",
    "colors=['firebrick', 'darkorange', 'forestgreen']\n",
    "\n",
    "plt.figure(figsize=(7, 5))\n",
    "plt.plot(eps_choices, [np.mean(noisy_shd[(eps, delta)]) for eps in eps_choices], \\\n",
    "         color='royalblue', linewidth=3, label=\"noisy ges\")\n",
    "for i, split in enumerate(split_choices):\n",
    "    plt.axhline(y=np.mean(split_shd[(split, delta)]), linestyle='--', xmin=0.05, xmax=0.95, \\\n",
    "                color=colors[i], linewidth=3, label=str(int(split*100))+'% split')\n",
    "plt.xlabel(\"$\\epsilon$\", fontsize=20)\n",
    "plt.ylabel(\"SHD\", fontsize=20)\n",
    "plt.xticks(fontsize=14)\n",
    "plt.yticks(fontsize=14)\n",
    "plt.legend(fontsize=16, loc=4)\n",
    "plt.title(\"Random Graph\", fontsize=20)\n",
    "plt.tight_layout()\n",
    "plt.savefig('noisy_ges_plot_shd.pdf')\n",
    "plt.show()\n",
    "\n",
    "plt.figure(figsize=(7, 5))\n",
    "plt.plot(eps_choices, [np.mean(noisy_widths[(eps, delta)]) for eps in eps_choices], \\\n",
    "         color='royalblue', linewidth=3, label=\"noisy ges\")\n",
    "for i, split in enumerate(split_choices):\n",
    "    plt.axhline(y=np.mean(split_widths[(split, delta)]), linestyle='--', xmin=0.05, xmax=0.95, \\\n",
    "                color=colors[i], linewidth=3, label=str(int(split*100))+'% split')\n",
    "plt.xlabel(\"$\\epsilon$\", fontsize=20)\n",
    "plt.ylabel(\"interval width\", fontsize=20)\n",
    "plt.xticks(fontsize=14)\n",
    "plt.yticks(fontsize=14)\n",
    "plt.legend(fontsize=16, loc=2)\n",
    "plt.title(\"Random Graph\", fontsize=20)\n",
    "plt.tight_layout()\n",
    "plt.savefig('noisy_ges_plot_width.pdf')\n",
    "plt.show()"
   ]
  },
  {
   "cell_type": "code",
   "execution_count": 6,
   "metadata": {},
   "outputs": [
    {
     "name": "stderr",
     "output_type": "stream",
     "text": [
      "100%|██████████| 100/100 [12:57<00:00,  7.77s/it]"
     ]
    },
    {
     "name": "stdout",
     "output_type": "stream",
     "text": [
      "The shd to the *true* graph using the full data for selection is: 14.69\n"
     ]
    },
    {
     "name": "stderr",
     "output_type": "stream",
     "text": [
      "\n"
     ]
    }
   ],
   "source": [
    "''' [EXTRA] See SHD to *true* graph for full data. '''\n",
    "\n",
    "full_shd = []\n",
    "for trial in tqdm(range(trials)):\n",
    "    np.random.seed(trial)\n",
    "\n",
    "    G = dag_avg_deg(d, avg_deg, w_min=2, w_max=4) # strengths between 2 and 4\n",
    "    data = sempler.LGANM(G, (0,0), (1,1)).sample(n=n)     # normalized data\n",
    "\n",
    "    cpdag_estimate, _ = noisy_fit(HuberScore(data, delta=delta))\n",
    "\n",
    "    full_shd.append(SHD_CPDAG(G, cpdag_estimate))\n",
    "    \n",
    "print(f\"The shd to the *true* graph using the full data for selection is: {np.round(np.mean(full_shd), 2)}\")"
   ]
  }
 ],
 "metadata": {
  "kernelspec": {
   "display_name": "Python 3",
   "language": "python",
   "name": "python3"
  },
  "language_info": {
   "codemirror_mode": {
    "name": "ipython",
    "version": 3
   },
   "file_extension": ".py",
   "mimetype": "text/x-python",
   "name": "python",
   "nbconvert_exporter": "python",
   "pygments_lexer": "ipython3",
   "version": "3.8.3"
  }
 },
 "nbformat": 4,
 "nbformat_minor": 4
}
