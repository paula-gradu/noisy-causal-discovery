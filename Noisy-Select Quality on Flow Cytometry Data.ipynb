{
 "cells": [
  {
   "cell_type": "code",
   "execution_count": 1,
   "metadata": {},
   "outputs": [
    {
     "name": "stderr",
     "output_type": "stream",
     "text": [
      "No GPU automatically detected. Setting SETTINGS.GPU to 0, and SETTINGS.NJOBS to cpu_count.\n"
     ]
    }
   ],
   "source": [
    "from our_utils import *\n",
    "from noisy_causal_discovery import *\n",
    "\n",
    "from cdt.data import load_dataset\n",
    "import matplotlib.pyplot as plt\n",
    "import numpy as np\n",
    "from numpy.random import laplace\n",
    "from tqdm.notebook import tqdm"
   ]
  },
  {
   "cell_type": "code",
   "execution_count": 2,
   "metadata": {},
   "outputs": [],
   "source": [
    "''' Load the dataset and the graph and convert to correct format and normalize the data.'''\n",
    "\n",
    "raw_data, graph = load_dataset('sachs')\n",
    "np_raw_data = np.array(raw_data).astype(float)\n",
    "\n",
    "n_full, d = np_raw_data.shape # extract n, d\n",
    "\n",
    "G = np.zeros((d,d)) # build graph\n",
    "\n",
    "names_to_dim = {'praf':0, 'pmek':1, 'plcg':2, 'PIP2':3, 'PIP3':4, 'p44/42':5, 'pakts473':6, 'PKA':7, 'PKC':8, 'P38':9, 'pjnk':10}\n",
    "\n",
    "for name_from, adj_dict in graph.adjacency():\n",
    "    for name_to in adj_dict.keys():\n",
    "        G[names_to_dim[name_from], names_to_dim[name_to]] = 1\n",
    "        \n",
    "data_full = np.zeros((n_full, d)) \n",
    "for j in range(d):  # normalize\n",
    "    data_full[:, j] = (np_raw_data[:, j] - np.mean(np_raw_data[:, j])) / np.std(np_raw_data[:, j])\n",
    "    \n",
    "nr_edges = np.sum(G)"
   ]
  },
  {
   "cell_type": "code",
   "execution_count": 3,
   "metadata": {},
   "outputs": [],
   "source": [
    "''' Choose general experiment parameters. '''\n",
    "\n",
    "trials = 100          # no. of trials to average over\n",
    "err_lvl = 0.05        # signficance level\n",
    "delta = 0.5          # delta Huber parameter\n",
    "no_graphs = 10        # number of graph variations\n",
    "n = 100               # sample sized to be used in experiments\n",
    "p_add = 5/(d*d)       # prob. of adding edge\n",
    "p_remove = 5/nr_edges # prob. of removing edge\n",
    "\n",
    "split_choices = [0.05, 0.5, 0.95] # splitting baselines\n",
    "\n",
    "eps_choices = [0.005, 0.01, 0.02, 0.04, 0.08] # privacy parameters\n",
    "\n",
    "split_shd, noisy_shd = {}, {}        # initialize the SHD results dictionaries\n",
    "split_widths, noisy_widths = {}, {}  # initialize the CI widths results dictionaries"
   ]
  },
  {
   "cell_type": "code",
   "execution_count": 4,
   "metadata": {},
   "outputs": [
    {
     "data": {
      "application/vnd.jupyter.widget-view+json": {
       "model_id": "f0a7dcd230b74544b56c668c4aef360a",
       "version_major": 2,
       "version_minor": 0
      },
      "text/plain": [
       "  0%|          | 0/100 [00:00<?, ?it/s]"
      ]
     },
     "metadata": {},
     "output_type": "display_data"
    },
    {
     "name": "stdout",
     "output_type": "stream",
     "text": [
      "For split = 0.05 data-splitting attains avg. SHD: 13.05\n",
      "For split = 0.05 data-splitting attains avg. CI widths: 0.46\n",
      "------------------------------------------------------------\n"
     ]
    },
    {
     "data": {
      "application/vnd.jupyter.widget-view+json": {
       "model_id": "6f8794bc5fb6414386e99c471b316490",
       "version_major": 2,
       "version_minor": 0
      },
      "text/plain": [
       "  0%|          | 0/100 [00:00<?, ?it/s]"
      ]
     },
     "metadata": {},
     "output_type": "display_data"
    },
    {
     "name": "stdout",
     "output_type": "stream",
     "text": [
      "For split = 0.5 data-splitting attains avg. SHD: 4.12\n",
      "For split = 0.5 data-splitting attains avg. CI widths: 0.56\n",
      "------------------------------------------------------------\n"
     ]
    },
    {
     "data": {
      "application/vnd.jupyter.widget-view+json": {
       "model_id": "83fccfe3057542cdb073b22a05592072",
       "version_major": 2,
       "version_minor": 0
      },
      "text/plain": [
       "  0%|          | 0/100 [00:00<?, ?it/s]"
      ]
     },
     "metadata": {},
     "output_type": "display_data"
    },
    {
     "name": "stdout",
     "output_type": "stream",
     "text": [
      "For split = 0.95 data-splitting attains avg. SHD: 0.55\n",
      "For split = 0.95 data-splitting attains avg. CI widths: 1.75\n",
      "------------------------------------------------------------\n"
     ]
    }
   ],
   "source": [
    "''' Compute the splitting baselines SHD to graph selected by the full data\n",
    "    and the estimated mean interval width. '''\n",
    "\n",
    "for split in split_choices:\n",
    "\n",
    "    split_shd[(split, delta)] = []\n",
    "    split_widths[(split, delta)] = []\n",
    "\n",
    "    for trial in tqdm(range(trials)):\n",
    "        np.random.seed(trial)\n",
    "\n",
    "        idxs = np.random.choice(range(n_full), size=n, replace=False)\n",
    "        data = data_full[idxs]\n",
    "\n",
    "        G_options = generate_graphs(G, no_graphs, p_remove, p_add)\n",
    "\n",
    "        full_scores = [score(data, G_options[j], delta=delta) for j in range(no_graphs)]\n",
    "        full_G_est = G_options[np.argmin(full_scores)]\n",
    "\n",
    "        select_data, infer_data = subsample(data, split)\n",
    "\n",
    "        split_scores = [score(select_data, G_options[j], delta=delta) for j in range(no_graphs)]\n",
    "        split_G_est = G_options[np.argmin(split_scores)]\n",
    "\n",
    "        split_shd[(split, delta)].append(np.sum(np.abs(split_G_est - full_G_est)))\n",
    "\n",
    "        if np.any(split_G_est) > 0:\n",
    "            split_widths[(split, delta)].append(get_CI_width(infer_data, split_G_est, err_lvl))\n",
    "        else:\n",
    "            split_widths[(split, delta)].append(0)\n",
    "    \n",
    "    print(\"For split =\", split,\"data-splitting attains avg. SHD:\", \\\n",
    "          np.round(np.mean(split_shd[(split, delta)]), 2))\n",
    "\n",
    "    print(\"For split =\", split,\"data-splitting attains avg. CI widths:\", \\\n",
    "          np.round(np.mean(split_widths[(split, delta)]), 2))\n",
    "    \n",
    "    print(\"------------------------------------------------------------\")"
   ]
  },
  {
   "cell_type": "code",
   "execution_count": 5,
   "metadata": {},
   "outputs": [
    {
     "data": {
      "application/vnd.jupyter.widget-view+json": {
       "model_id": "e1208ee27d934e0c97814b360c329606",
       "version_major": 2,
       "version_minor": 0
      },
      "text/plain": [
       "  0%|          | 0/100 [00:00<?, ?it/s]"
      ]
     },
     "metadata": {},
     "output_type": "display_data"
    },
    {
     "name": "stdout",
     "output_type": "stream",
     "text": [
      "For eps = 0.005 noisy-select attins avg. SHD: 11.8\n",
      "For eps = 0.005 noisy-select attains avg. CI widths: 0.46\n",
      "------------------------------------------------------------\n"
     ]
    },
    {
     "data": {
      "application/vnd.jupyter.widget-view+json": {
       "model_id": "a449afda3ac249259d5ba8b750f0e809",
       "version_major": 2,
       "version_minor": 0
      },
      "text/plain": [
       "  0%|          | 0/100 [00:00<?, ?it/s]"
      ]
     },
     "metadata": {},
     "output_type": "display_data"
    },
    {
     "name": "stdout",
     "output_type": "stream",
     "text": [
      "For eps = 0.01 noisy-select attins avg. SHD: 11.72\n",
      "For eps = 0.01 noisy-select attains avg. CI widths: 0.48\n",
      "------------------------------------------------------------\n"
     ]
    },
    {
     "data": {
      "application/vnd.jupyter.widget-view+json": {
       "model_id": "960841a5a7ba4f009f83ca1a1cf3f124",
       "version_major": 2,
       "version_minor": 0
      },
      "text/plain": [
       "  0%|          | 0/100 [00:00<?, ?it/s]"
      ]
     },
     "metadata": {},
     "output_type": "display_data"
    },
    {
     "name": "stdout",
     "output_type": "stream",
     "text": [
      "For eps = 0.02 noisy-select attins avg. SHD: 11.58\n",
      "For eps = 0.02 noisy-select attains avg. CI widths: 0.49\n",
      "------------------------------------------------------------\n"
     ]
    },
    {
     "data": {
      "application/vnd.jupyter.widget-view+json": {
       "model_id": "cd68029fd69648e3aa9aeb5e27f44588",
       "version_major": 2,
       "version_minor": 0
      },
      "text/plain": [
       "  0%|          | 0/100 [00:00<?, ?it/s]"
      ]
     },
     "metadata": {},
     "output_type": "display_data"
    },
    {
     "name": "stdout",
     "output_type": "stream",
     "text": [
      "For eps = 0.04 noisy-select attins avg. SHD: 11.05\n",
      "For eps = 0.04 noisy-select attains avg. CI widths: 0.49\n",
      "------------------------------------------------------------\n"
     ]
    },
    {
     "data": {
      "application/vnd.jupyter.widget-view+json": {
       "model_id": "24c2b20b48c64c66a1b6631dbdfc4a51",
       "version_major": 2,
       "version_minor": 0
      },
      "text/plain": [
       "  0%|          | 0/100 [00:00<?, ?it/s]"
      ]
     },
     "metadata": {},
     "output_type": "display_data"
    },
    {
     "name": "stdout",
     "output_type": "stream",
     "text": [
      "For eps = 0.08 noisy-select attins avg. SHD: 10.76\n",
      "For eps = 0.08 noisy-select attains avg. CI widths: 0.57\n",
      "------------------------------------------------------------\n"
     ]
    }
   ],
   "source": [
    "''' Compute the noisy-select SHD to graph selected by the full data\n",
    "    and the estimated mean interval width for varying settings of epsilon. '''\n",
    "\n",
    "for eps in eps_choices:\n",
    "    \n",
    "    err_lvl_adj = alpha_tilde(err_lvl, eps, n)\n",
    "\n",
    "    noisy_shd[(eps, delta)] = []\n",
    "    noisy_widths[(eps, delta)] = []\n",
    "\n",
    "    for trial in tqdm(range(trials)):\n",
    "        np.random.seed(trial)\n",
    "\n",
    "        idxs = np.random.choice(range(n_full), size=n, replace=False)\n",
    "        data = data_full[idxs]\n",
    "\n",
    "        G_options = generate_graphs(G, no_graphs, p_remove, p_add)\n",
    "\n",
    "        full_scores = [score(data, G_options[j], delta=delta) for j in range(no_graphs)]\n",
    "        full_G_est = G_options[np.argmin(full_scores)]\n",
    "\n",
    "        sensitivity = get_sensitivity(data, G_options, delta=delta)\n",
    "        noise_lvl = noise_scale(eps, sensitivity)\n",
    "\n",
    "        noisy_scores = [score(data, G_options[j], delta) + laplace(scale=noise_lvl) for j in range(no_graphs)]\n",
    "        noisy_G_est = G_options[np.argmin(noisy_scores)]\n",
    "\n",
    "        noisy_shd[(eps, delta)].append(np.sum(np.abs(noisy_G_est - full_G_est)))\n",
    "\n",
    "        if np.any(noisy_G_est):\n",
    "            noisy_widths[(eps, delta)].append(get_CI_width(data, noisy_G_est, err_lvl_adj))\n",
    "        else:\n",
    "            noisy_widths[(eps, delta)].append(0)\n",
    "            \n",
    "    print(\"For eps =\", eps,\"noisy-select attins avg. SHD:\", \\\n",
    "          np.round(np.mean(noisy_shd[(eps, delta)]), 2))\n",
    "\n",
    "    print(\"For eps =\", eps, \"noisy-select attains avg. CI widths:\", \\\n",
    "          np.round(np.mean(noisy_widths[(eps, delta)]), 2))\n",
    "\n",
    "    print(\"------------------------------------------------------------\")"
   ]
  },
  {
   "cell_type": "code",
   "execution_count": 6,
   "metadata": {},
   "outputs": [
    {
     "data": {
      "image/png": "[encoded data removed]",
      "text/plain": [
       "<Figure size 504x360 with 1 Axes>"
      ]
     },
     "metadata": {
      "needs_background": "light"
     },
     "output_type": "display_data"
    },
    {
     "data": {
      "image/png": "[encoded data removed]",
      "text/plain": [
       "<Figure size 504x360 with 1 Axes>"
      ]
     },
     "metadata": {
      "needs_background": "light"
     },
     "output_type": "display_data"
    }
   ],
   "source": [
    "''' Plot the corresponding results. '''\n",
    "\n",
    "colors=['firebrick', 'darkorange', 'forestgreen']\n",
    "\n",
    "plt.figure(figsize=(7, 5))\n",
    "plt.plot(eps_choices, [np.mean(noisy_shd[(eps, delta)]) for eps in eps_choices], \\\n",
    "         color='royalblue', linewidth=3, label=\"noisy select\")\n",
    "for i, split in enumerate(split_choices):\n",
    "    plt.axhline(y=np.mean(split_shd[(split, delta)]), linestyle='--', xmin=0.05, xmax=0.95, \\\n",
    "                color=colors[i], linewidth=3, label=str(int(split*100))+'% split')\n",
    "plt.xlabel(\"$\\epsilon$\", fontsize=20)\n",
    "plt.ylabel(\"SHD\", fontsize=20)\n",
    "plt.xticks(fontsize=14)\n",
    "plt.yticks(fontsize=14)\n",
    "plt.legend(fontsize=16, loc=6)\n",
    "plt.title(\"Flow Cytometry Data\", fontsize=20)\n",
    "plt.tight_layout()\n",
    "plt.show()\n",
    "\n",
    "plt.figure(figsize=(7, 5))\n",
    "plt.plot(eps_choices, [np.mean(noisy_widths[(eps, delta)]) for eps in eps_choices], \\\n",
    "         color='royalblue', linewidth=3, label=\"noisy select\")\n",
    "for i, split in enumerate(split_choices):\n",
    "    plt.axhline(y=np.mean(split_widths[(split, delta)]), linestyle='--', xmin=0.05, xmax=0.95, \\\n",
    "                color=colors[i], linewidth=3, label=str(int(split*100))+'% split')\n",
    "plt.xlabel(\"$\\epsilon$\", fontsize=20)\n",
    "plt.ylabel(\"interval width\", fontsize=20)\n",
    "plt.xticks(fontsize=14)\n",
    "plt.yticks(fontsize=14)\n",
    "plt.legend(fontsize=16, loc=6)\n",
    "plt.title(\"Flow Cytometry Data\", fontsize=20)\n",
    "plt.tight_layout()\n",
    "plt.show()"
   ]
  },
  {
   "cell_type": "code",
   "execution_count": 7,
   "metadata": {},
   "outputs": [
    {
     "name": "stdout",
     "output_type": "stream",
     "text": [
      "The shd to the *true* graph using the full data for selection is: 7.33\n"
     ]
    }
   ],
   "source": [
    "''' [EXTRA] See SHD to *true* graph for full data. '''\n",
    "\n",
    "full_shd = []\n",
    "for trial in range(trials):\n",
    "    np.random.seed(trial)\n",
    "\n",
    "    idxs = np.random.choice(range(n_full), size=n, replace=False)\n",
    "    data = data_full[idxs]\n",
    "\n",
    "    G_options = generate_graphs(G, no_graphs, p_remove, p_add)\n",
    "\n",
    "    full_scores = [score(data, G_options[j], delta=delta) for j in range(no_graphs)]\n",
    "    full_G_est = G_options[np.argmin(full_scores)]\n",
    "\n",
    "    full_shd.append(np.sum(np.abs(G - full_G_est)))\n",
    "    \n",
    "print(f\"The shd to the *true* graph using the full data for selection is: {np.round(np.mean(full_shd), 2)}\")"
   ]
  }
 ],
 "metadata": {
  "kernelspec": {
   "display_name": "Python 3",
   "language": "python",
   "name": "python3"
  },
  "language_info": {
   "codemirror_mode": {
    "name": "ipython",
    "version": 3
   },
   "file_extension": ".py",
   "mimetype": "text/x-python",
   "name": "python",
   "nbconvert_exporter": "python",
   "pygments_lexer": "ipython3",
   "version": "3.8.3"
  }
 },
 "nbformat": 4,
 "nbformat_minor": 4
}
