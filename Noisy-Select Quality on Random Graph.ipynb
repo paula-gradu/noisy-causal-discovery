{
 "cells": [
  {
   "cell_type": "code",
   "execution_count": 1,
   "metadata": {},
   "outputs": [],
   "source": [
    "from noisy_select_utils import *\n",
    "\n",
    "import matplotlib.pyplot as plt\n",
    "import numpy as np\n",
    "import sempler\n",
    "from sempler.generators import dag_avg_deg\n",
    "from tqdm.notebook import tqdm"
   ]
  },
  {
   "cell_type": "code",
   "execution_count": 2,
   "metadata": {},
   "outputs": [],
   "source": [
    "''' Choose general experiment parameters. '''\n",
    "\n",
    "trials = 100         # no. of trials to average over\n",
    "err_lvl = 0.05       # signficance level\n",
    "delta = 0.5          # delta Huber parameter\n",
    "no_graphs = 10       # number of graph variations\n",
    "n, d = 100, 15       # sample size, graph dimension\n",
    "avg_deg = 2          # average degree\n",
    "p_add = 2.5/(d*d)    # prob. of adding edge\n",
    "p_remove_base = 2.5  # base prob. of removing edge (to be divided by |E|)\n",
    "\n",
    "split_choices = [0.05, 0.5, 0.95] # splitting baselines\n",
    "\n",
    "eps_choices = [0.001, 0.01, 0.02, 0.04, 0.08, 0.16, 0.32] # privacy parameters\n",
    "\n",
    "split_shd, noisy_shd = {}, {}        # initialize the SHD results dictionaries\n",
    "split_widths, noisy_widths = {}, {}  # initialize the CI widths results dictionaries"
   ]
  },
  {
   "cell_type": "code",
   "execution_count": 3,
   "metadata": {},
   "outputs": [
    {
     "data": {
      "application/vnd.jupyter.widget-view+json": {
       "model_id": "12b82886060c415496f7cf2f63f4e979",
       "version_major": 2,
       "version_minor": 0
      },
      "text/plain": [
       "  0%|          | 0/100 [00:00<?, ?it/s]"
      ]
     },
     "metadata": {},
     "output_type": "display_data"
    },
    {
     "name": "stdout",
     "output_type": "stream",
     "text": [
      "For split = 0.05 data-splitting attains avg. SHD: 16.39\n",
      "For split = 0.05 data-splitting attains avg. CI widths: 0.08\n",
      "------------------------------------------------------------\n"
     ]
    },
    {
     "data": {
      "application/vnd.jupyter.widget-view+json": {
       "model_id": "ef49c8e2dfbf4383ab262530b84558a7",
       "version_major": 2,
       "version_minor": 0
      },
      "text/plain": [
       "  0%|          | 0/100 [00:00<?, ?it/s]"
      ]
     },
     "metadata": {},
     "output_type": "display_data"
    },
    {
     "name": "stdout",
     "output_type": "stream",
     "text": [
      "For split = 0.5 data-splitting attains avg. SHD: 1.0\n",
      "For split = 0.5 data-splitting attains avg. CI widths: 0.23\n",
      "------------------------------------------------------------\n"
     ]
    },
    {
     "data": {
      "application/vnd.jupyter.widget-view+json": {
       "model_id": "0cd0e302cda94cdda9a38c2e63809d84",
       "version_major": 2,
       "version_minor": 0
      },
      "text/plain": [
       "  0%|          | 0/100 [00:00<?, ?it/s]"
      ]
     },
     "metadata": {},
     "output_type": "display_data"
    },
    {
     "name": "stdout",
     "output_type": "stream",
     "text": [
      "For split = 0.95 data-splitting attains avg. SHD: 0.14\n",
      "For split = 0.95 data-splitting attains avg. CI widths: 0.58\n",
      "------------------------------------------------------------\n"
     ]
    }
   ],
   "source": [
    "''' Compute the splitting baselines SHD to graph selected by the full data\n",
    "    and the estimated mean interval width. '''\n",
    "\n",
    "for split in split_choices:\n",
    "\n",
    "    split_shd[(split, delta)] = []\n",
    "    split_widths[(split, delta)] = []\n",
    "\n",
    "    for trial in tqdm(range(trials)):\n",
    "        np.random.seed(trial)\n",
    "\n",
    "        G = dag_avg_deg(d, avg_deg, w_min=2, w_max=4)\n",
    "        p_remove = p_remove_base/np.sum(G != 0)\n",
    "        data = sempler.LGANM(G, (0,0), (1,1)).sample(n=n)\n",
    "\n",
    "        G_options = generate_graphs(G, no_graphs, p_remove, p_add)\n",
    "\n",
    "        full_scores = [score(data, G_options[j], delta=delta) for j in range(no_graphs)]\n",
    "        full_G_est = G_options[np.argmin(full_scores)]\n",
    "\n",
    "        select_data, infer_data = subsample(data, split)\n",
    "\n",
    "        split_scores = [score(select_data, G_options[j], delta=delta) for j in range(no_graphs)]\n",
    "        split_G_est = G_options[np.argmin(split_scores)]\n",
    "\n",
    "        split_shd[(split, delta)].append(np.sum(np.abs(split_G_est - full_G_est)))\n",
    "        if np.any(split_G_est) > 0:\n",
    "            split_widths[(split, delta)].append(get_CI_width(infer_data, split_G_est, err_lvl))\n",
    "        else:\n",
    "            split_widths[(split, delta)].append(0)\n",
    "\n",
    "    print(\"For split =\", split,\"data-splitting attains avg. SHD:\", \\\n",
    "          np.round(np.mean(split_shd[(split, delta)]), 2))\n",
    "\n",
    "    print(\"For split =\", split,\"data-splitting attains avg. CI widths:\", \\\n",
    "          np.round(np.mean(split_widths[(split, delta)]), 2))\n",
    "    \n",
    "    print(\"------------------------------------------------------------\")"
   ]
  },
  {
   "cell_type": "code",
   "execution_count": 4,
   "metadata": {},
   "outputs": [
    {
     "data": {
      "application/vnd.jupyter.widget-view+json": {
       "model_id": "cd7368b7765a4c6c9074038a2e3978f4",
       "version_major": 2,
       "version_minor": 0
      },
      "text/plain": [
       "  0%|          | 0/100 [00:00<?, ?it/s]"
      ]
     },
     "metadata": {},
     "output_type": "display_data"
    },
    {
     "name": "stdout",
     "output_type": "stream",
     "text": [
      "For eps = 0.001 noisy-select attins avg. SHD: 6.8\n",
      "For eps = 0.001 noisy-select attains avg. CI widths: 0.07\n",
      "------------------------------------------------------------\n"
     ]
    },
    {
     "data": {
      "application/vnd.jupyter.widget-view+json": {
       "model_id": "e3b7a06b775e4f76b56cbddf8798ca29",
       "version_major": 2,
       "version_minor": 0
      },
      "text/plain": [
       "  0%|          | 0/100 [00:00<?, ?it/s]"
      ]
     },
     "metadata": {},
     "output_type": "display_data"
    },
    {
     "name": "stdout",
     "output_type": "stream",
     "text": [
      "For eps = 0.01 noisy-select attins avg. SHD: 6.8\n",
      "For eps = 0.01 noisy-select attains avg. CI widths: 0.07\n",
      "------------------------------------------------------------\n"
     ]
    },
    {
     "data": {
      "application/vnd.jupyter.widget-view+json": {
       "model_id": "e181c798829c4c4aae9f9e21a19d1d6d",
       "version_major": 2,
       "version_minor": 0
      },
      "text/plain": [
       "  0%|          | 0/100 [00:00<?, ?it/s]"
      ]
     },
     "metadata": {},
     "output_type": "display_data"
    },
    {
     "name": "stdout",
     "output_type": "stream",
     "text": [
      "For eps = 0.02 noisy-select attins avg. SHD: 6.77\n",
      "For eps = 0.02 noisy-select attains avg. CI widths: 0.08\n",
      "------------------------------------------------------------\n"
     ]
    },
    {
     "data": {
      "application/vnd.jupyter.widget-view+json": {
       "model_id": "b63bb79ea8f644b889c3466a771bd57c",
       "version_major": 2,
       "version_minor": 0
      },
      "text/plain": [
       "  0%|          | 0/100 [00:00<?, ?it/s]"
      ]
     },
     "metadata": {},
     "output_type": "display_data"
    },
    {
     "name": "stdout",
     "output_type": "stream",
     "text": [
      "For eps = 0.04 noisy-select attins avg. SHD: 6.75\n",
      "For eps = 0.04 noisy-select attains avg. CI widths: 0.08\n",
      "------------------------------------------------------------\n"
     ]
    },
    {
     "data": {
      "application/vnd.jupyter.widget-view+json": {
       "model_id": "6a2bfd0a20ff4fdb87b2be9e22d2b2c7",
       "version_major": 2,
       "version_minor": 0
      },
      "text/plain": [
       "  0%|          | 0/100 [00:00<?, ?it/s]"
      ]
     },
     "metadata": {},
     "output_type": "display_data"
    },
    {
     "name": "stdout",
     "output_type": "stream",
     "text": [
      "For eps = 0.08 noisy-select attins avg. SHD: 6.6\n",
      "For eps = 0.08 noisy-select attains avg. CI widths: 0.1\n",
      "------------------------------------------------------------\n"
     ]
    },
    {
     "data": {
      "application/vnd.jupyter.widget-view+json": {
       "model_id": "4bb16ba11c9841e696831f3d43326cc4",
       "version_major": 2,
       "version_minor": 0
      },
      "text/plain": [
       "  0%|          | 0/100 [00:00<?, ?it/s]"
      ]
     },
     "metadata": {},
     "output_type": "display_data"
    },
    {
     "name": "stdout",
     "output_type": "stream",
     "text": [
      "For eps = 0.16 noisy-select attins avg. SHD: 5.84\n",
      "For eps = 0.16 noisy-select attains avg. CI widths: 0.09\n",
      "------------------------------------------------------------\n"
     ]
    },
    {
     "data": {
      "application/vnd.jupyter.widget-view+json": {
       "model_id": "f92df24d81114bbbbad8df0e06ddf20c",
       "version_major": 2,
       "version_minor": 0
      },
      "text/plain": [
       "  0%|          | 0/100 [00:00<?, ?it/s]"
      ]
     },
     "metadata": {},
     "output_type": "display_data"
    },
    {
     "name": "stdout",
     "output_type": "stream",
     "text": [
      "For eps = 0.32 noisy-select attins avg. SHD: 5.54\n",
      "For eps = 0.32 noisy-select attains avg. CI widths: 0.17\n",
      "------------------------------------------------------------\n"
     ]
    }
   ],
   "source": [
    "''' Compute the noisy-select SHD to graph selected by the full data\n",
    "    and the estimated mean interval width for varying settings of epsilon. '''\n",
    "\n",
    "for eps in eps_choices:\n",
    "    \n",
    "    err_lvl_adj = alpha_tilde(err_lvl, eps, n)\n",
    "\n",
    "    noisy_shd[(eps, delta)] = []\n",
    "    noisy_widths[(eps, delta)] = []\n",
    "\n",
    "    for trial in tqdm(range(trials)):\n",
    "        np.random.seed(trial)\n",
    "\n",
    "        G = dag_avg_deg(d, avg_deg, w_min=2, w_max=4)\n",
    "        p_remove = 2.5/np.sum(G != 0)\n",
    "        data = sempler.LGANM(G, (0,0), (1,1)).sample(n=n)\n",
    "\n",
    "        G_options = generate_graphs(G, no_graphs, p_remove, p_add)\n",
    "\n",
    "        full_scores = [score(data, G_options[j], delta=delta) for j in range(no_graphs)]\n",
    "        full_G_est = G_options[np.argmin(full_scores)]\n",
    "\n",
    "        sensitivity = get_sensitivity(data, G_options, delta=delta)\n",
    "        noise_lvl = noise_scale(eps, sensitivity)\n",
    "\n",
    "        noisy_scores = [score(data, G_options[j], delta=delta) + laplace(scale=noise_lvl) for j in range(no_graphs)]\n",
    "        noisy_G_est = G_options[np.argmin(noisy_scores)]\n",
    "\n",
    "        noisy_shd[(eps, delta)].append(np.sum(np.abs(noisy_G_est - full_G_est)))\n",
    "\n",
    "        if np.any(noisy_G_est):\n",
    "            noisy_widths[(eps, delta)].append(get_CI_width(data, noisy_G_est, err_lvl_adj))\n",
    "        else:\n",
    "            noisy_widths[(eps, delta)].append(0)\n",
    "\n",
    "    print(\"For eps =\", eps,\"noisy-select attins avg. SHD:\", \\\n",
    "          np.round(np.mean(noisy_shd[(eps, delta)]), 2))\n",
    "\n",
    "    print(\"For eps =\", eps, \"noisy-select attains avg. CI widths:\", \\\n",
    "          np.round(np.mean(noisy_widths[(eps, delta)]), 2))\n",
    "\n",
    "    print(\"------------------------------------------------------------\")"
   ]
  },
  {
   "cell_type": "code",
   "execution_count": 5,
   "metadata": {},
   "outputs": [
    {
     "data": {
      "image/png": "[encoded data removed]",
      "text/plain": [
       "<Figure size 504x360 with 1 Axes>"
      ]
     },
     "metadata": {
      "needs_background": "light"
     },
     "output_type": "display_data"
    },
    {
     "data": {
      "image/png": "[encoded data removed]",
      "text/plain": [
       "<Figure size 504x360 with 1 Axes>"
      ]
     },
     "metadata": {
      "needs_background": "light"
     },
     "output_type": "display_data"
    }
   ],
   "source": [
    "''' Plot the corresponding results. '''\n",
    "\n",
    "colors=['firebrick', 'darkorange', 'forestgreen']\n",
    "\n",
    "plt.figure(figsize=(7, 5))\n",
    "plt.plot(eps_choices, [np.mean(noisy_shd[(eps, delta)]) for eps in eps_choices], \\\n",
    "         color='royalblue', linewidth=3, label=\"noisy select\")\n",
    "for i, split in enumerate(split_choices):\n",
    "    plt.axhline(y=np.mean(split_shd[(split, delta)]), linestyle='--', xmin=0.05, xmax=0.95, \\\n",
    "                color=colors[i], linewidth=3, label=str(int(split*100))+'% split')\n",
    "plt.xlabel(\"$\\epsilon$\", fontsize=20)\n",
    "plt.ylabel(\"SHD\", fontsize=20)\n",
    "plt.xticks(fontsize=14)\n",
    "plt.yticks(fontsize=14)\n",
    "plt.legend(fontsize=16, loc=1)\n",
    "plt.title(\"Random Graph\", fontsize=20)\n",
    "plt.tight_layout()\n",
    "plt.show()\n",
    "\n",
    "plt.figure(figsize=(7, 5))\n",
    "plt.plot(eps_choices, [np.mean(noisy_widths[(eps, delta)]) for eps in eps_choices], \\\n",
    "         color='royalblue', linewidth=3, label=\"noisy select\")\n",
    "for i, split in enumerate(split_choices):\n",
    "    plt.axhline(y=np.mean(split_widths[(split, delta)]), linestyle='--', xmin=0.05, xmax=0.95, \\\n",
    "                color=colors[i], linewidth=3, label=str(int(split*100))+'% split')\n",
    "plt.xlabel(\"$\\epsilon$\", fontsize=20)\n",
    "plt.ylabel(\"interval width\", fontsize=20)\n",
    "plt.xticks(fontsize=14)\n",
    "plt.yticks(fontsize=14)\n",
    "plt.legend(fontsize=16, loc=1)\n",
    "plt.title(\"Random Graph\", fontsize=20)\n",
    "plt.tight_layout()\n",
    "plt.show()"
   ]
  },
  {
   "cell_type": "code",
   "execution_count": 6,
   "metadata": {},
   "outputs": [
    {
     "name": "stdout",
     "output_type": "stream",
     "text": [
      "The shd to the *true* graph using the full data for selection is: 33.83\n"
     ]
    }
   ],
   "source": [
    "''' [EXTRA] See SHD to *true* graph for full data. '''\n",
    "\n",
    "full_shd = []\n",
    "\n",
    "for trial in range(trials):\n",
    "    np.random.seed(trial)\n",
    "\n",
    "    G = dag_avg_deg(d, avg_deg, w_min=2, w_max=4)\n",
    "    p_remove = 2.5/np.sum(G != 0)\n",
    "    data = sempler.LGANM(G, (0,0), (1,1)).sample(n=n)\n",
    "\n",
    "    G_options = generate_graphs(G, no_graphs, p_remove, p_add)\n",
    "\n",
    "    full_scores = [score(data, G_options[j], delta=delta) for j in range(no_graphs)]\n",
    "    full_G_est = G_options[np.argmin(full_scores)]\n",
    "\n",
    "    full_shd.append(np.sum(np.abs(G - full_G_est)))\n",
    "    \n",
    "print(f\"The shd to the *true* graph using the full data for selection is: {np.round(np.mean(full_shd), 2)}\")"
   ]
  }
 ],
 "metadata": {
  "kernelspec": {
   "display_name": "Python 3",
   "language": "python",
   "name": "python3"
  },
  "language_info": {
   "codemirror_mode": {
    "name": "ipython",
    "version": 3
   },
   "file_extension": ".py",
   "mimetype": "text/x-python",
   "name": "python",
   "nbconvert_exporter": "python",
   "pygments_lexer": "ipython3",
   "version": "3.8.3"
  }
 },
 "nbformat": 4,
 "nbformat_minor": 4
}
