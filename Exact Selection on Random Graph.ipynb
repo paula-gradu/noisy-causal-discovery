{
 "cells": [
  {
   "cell_type": "code",
   "execution_count": 1,
   "metadata": {},
   "outputs": [],
   "source": [
    "from tqdm import tqdm \n",
    "import numpy as np\n",
    "\n",
    "from sempler.generators import dag_avg_deg\n",
    "from sempler import LGANM\n",
    "\n",
    "import ges\n",
    "from scores import HuberScore\n",
    "from our_utils import *\n",
    "\n",
    "import matplotlib.pyplot as plt \n",
    "\n",
    "from noisy_causal_discovery import is_valid"
   ]
  },
  {
   "cell_type": "code",
   "execution_count": 2,
   "metadata": {},
   "outputs": [],
   "source": [
    "# setting experimental parameters\n",
    "trials = 100\n",
    "avg_deg = 2\n",
    "err_lvl = 0.05\n",
    "\n",
    "# setting parameters to noisy GES\n",
    "max_iter = 5\n",
    "delta = 0.5\n",
    "\n",
    "# setting dimension and sample increments\n",
    "d_inc = 5\n",
    "n_inc = 50\n",
    "no_graphs = 10\n",
    "p_add = 0.01\n",
    "\n",
    "\n",
    "#initializing results matrix\n",
    "results_rand = np.zeros((4, 5))"
   ]
  },
  {
   "cell_type": "code",
   "execution_count": 3,
   "metadata": {},
   "outputs": [
    {
     "name": "stderr",
     "output_type": "stream",
     "text": [
      "100%|██████████| 100/100 [00:28<00:00,  3.46it/s]\n"
     ]
    },
    {
     "name": "stdout",
     "output_type": "stream",
     "text": [
      "d, n= 5 50 , metrics= 0.1\n"
     ]
    },
    {
     "name": "stderr",
     "output_type": "stream",
     "text": [
      "100%|██████████| 100/100 [00:27<00:00,  3.69it/s]\n"
     ]
    },
    {
     "name": "stdout",
     "output_type": "stream",
     "text": [
      "d, n= 5 100 , metrics= 0.06\n"
     ]
    },
    {
     "name": "stderr",
     "output_type": "stream",
     "text": [
      "100%|██████████| 100/100 [00:28<00:00,  3.50it/s]\n"
     ]
    },
    {
     "name": "stdout",
     "output_type": "stream",
     "text": [
      "d, n= 5 150 , metrics= 0.05\n"
     ]
    },
    {
     "name": "stderr",
     "output_type": "stream",
     "text": [
      "100%|██████████| 100/100 [00:29<00:00,  3.36it/s]\n"
     ]
    },
    {
     "name": "stdout",
     "output_type": "stream",
     "text": [
      "d, n= 5 200 , metrics= 0.06\n"
     ]
    },
    {
     "name": "stderr",
     "output_type": "stream",
     "text": [
      "100%|██████████| 100/100 [00:29<00:00,  3.39it/s]\n"
     ]
    },
    {
     "name": "stdout",
     "output_type": "stream",
     "text": [
      "d, n= 5 250 , metrics= 0.11\n"
     ]
    },
    {
     "name": "stderr",
     "output_type": "stream",
     "text": [
      "100%|██████████| 100/100 [00:50<00:00,  1.98it/s]\n"
     ]
    },
    {
     "name": "stdout",
     "output_type": "stream",
     "text": [
      "d, n= 10 50 , metrics= 0.07\n"
     ]
    },
    {
     "name": "stderr",
     "output_type": "stream",
     "text": [
      "100%|██████████| 100/100 [00:52<00:00,  1.90it/s]\n"
     ]
    },
    {
     "name": "stdout",
     "output_type": "stream",
     "text": [
      "d, n= 10 100 , metrics= 0.01\n"
     ]
    },
    {
     "name": "stderr",
     "output_type": "stream",
     "text": [
      "100%|██████████| 100/100 [01:00<00:00,  1.65it/s]\n"
     ]
    },
    {
     "name": "stdout",
     "output_type": "stream",
     "text": [
      "d, n= 10 150 , metrics= 0.13\n"
     ]
    },
    {
     "name": "stderr",
     "output_type": "stream",
     "text": [
      "100%|██████████| 100/100 [00:56<00:00,  1.77it/s]\n"
     ]
    },
    {
     "name": "stdout",
     "output_type": "stream",
     "text": [
      "d, n= 10 200 , metrics= 0.08\n"
     ]
    },
    {
     "name": "stderr",
     "output_type": "stream",
     "text": [
      "100%|██████████| 100/100 [00:55<00:00,  1.79it/s]\n"
     ]
    },
    {
     "name": "stdout",
     "output_type": "stream",
     "text": [
      "d, n= 10 250 , metrics= 0.06\n"
     ]
    },
    {
     "name": "stderr",
     "output_type": "stream",
     "text": [
      "100%|██████████| 100/100 [01:15<00:00,  1.32it/s]\n"
     ]
    },
    {
     "name": "stdout",
     "output_type": "stream",
     "text": [
      "d, n= 15 50 , metrics= 0.04\n"
     ]
    },
    {
     "name": "stderr",
     "output_type": "stream",
     "text": [
      "100%|██████████| 100/100 [01:16<00:00,  1.31it/s]\n"
     ]
    },
    {
     "name": "stdout",
     "output_type": "stream",
     "text": [
      "d, n= 15 100 , metrics= 0.04\n"
     ]
    },
    {
     "name": "stderr",
     "output_type": "stream",
     "text": [
      "100%|██████████| 100/100 [01:28<00:00,  1.14it/s]\n"
     ]
    },
    {
     "name": "stdout",
     "output_type": "stream",
     "text": [
      "d, n= 15 150 , metrics= 0.05\n"
     ]
    },
    {
     "name": "stderr",
     "output_type": "stream",
     "text": [
      "100%|██████████| 100/100 [01:28<00:00,  1.14it/s]\n"
     ]
    },
    {
     "name": "stdout",
     "output_type": "stream",
     "text": [
      "d, n= 15 200 , metrics= 0.13\n"
     ]
    },
    {
     "name": "stderr",
     "output_type": "stream",
     "text": [
      "100%|██████████| 100/100 [01:29<00:00,  1.12it/s]\n"
     ]
    },
    {
     "name": "stdout",
     "output_type": "stream",
     "text": [
      "d, n= 15 250 , metrics= 0.09\n"
     ]
    },
    {
     "name": "stderr",
     "output_type": "stream",
     "text": [
      "100%|██████████| 100/100 [01:50<00:00,  1.10s/it]\n"
     ]
    },
    {
     "name": "stdout",
     "output_type": "stream",
     "text": [
      "d, n= 20 50 , metrics= 0.08\n"
     ]
    },
    {
     "name": "stderr",
     "output_type": "stream",
     "text": [
      "100%|██████████| 100/100 [01:52<00:00,  1.12s/it]\n"
     ]
    },
    {
     "name": "stdout",
     "output_type": "stream",
     "text": [
      "d, n= 20 100 , metrics= 0.07\n"
     ]
    },
    {
     "name": "stderr",
     "output_type": "stream",
     "text": [
      "100%|██████████| 100/100 [01:53<00:00,  1.14s/it]\n"
     ]
    },
    {
     "name": "stdout",
     "output_type": "stream",
     "text": [
      "d, n= 20 150 , metrics= 0.02\n"
     ]
    },
    {
     "name": "stderr",
     "output_type": "stream",
     "text": [
      "100%|██████████| 100/100 [01:56<00:00,  1.17s/it]\n"
     ]
    },
    {
     "name": "stdout",
     "output_type": "stream",
     "text": [
      "d, n= 20 200 , metrics= 0.1\n"
     ]
    },
    {
     "name": "stderr",
     "output_type": "stream",
     "text": [
      "100%|██████████| 100/100 [01:55<00:00,  1.15s/it]"
     ]
    },
    {
     "name": "stdout",
     "output_type": "stream",
     "text": [
      "d, n= 20 250 , metrics= 0.08\n"
     ]
    },
    {
     "name": "stderr",
     "output_type": "stream",
     "text": [
      "\n"
     ]
    }
   ],
   "source": [
    "for d_iter in range(results_rand.shape[0]):\n",
    "    for n_iter in range(results_rand.shape[1]):\n",
    "\n",
    "        if results_rand[d_iter, n_iter] != 0:\n",
    "            continue\n",
    "\n",
    "        d, n = d_inc * (d_iter+1), n_inc * (n_iter+1)\n",
    "\n",
    "        for trial in tqdm(range(trials)):\n",
    "            \n",
    "            G = dag_avg_deg(d, avg_deg, w_min=2, w_max=4)\n",
    "            p_remove = 2.5/np.maximum(np.sum(G != 0), 2.5)\n",
    "            data = LGANM(G, (0,0), (1,1)).sample(n=n)\n",
    "            \n",
    "            G_options = generate_graphs(G, no_graphs, p_remove, p_add)\n",
    "            \n",
    "            full_scores = [score(data, G_options[j], delta=delta) for j in range(no_graphs)]\n",
    "            full_G_est = G_options[np.argmin(full_scores)]\n",
    "            \n",
    "            results_rand[d_iter, n_iter] += (1-is_valid(data, full_G_est, err_lvl, G, true_effect=False))\n",
    "                                            # To get true effect coverage replace the above with \n",
    "                                            # is_valid(data, cpdag_estimate, err_lvl, G, true_effect=True)\n",
    "\n",
    "        results_rand[d_iter, n_iter] /= trials\n",
    "        print(\"d, n=\", d, n, \", metrics=\", results_rand[d_iter, n_iter])"
   ]
  },
  {
   "cell_type": "markdown",
   "metadata": {},
   "source": [
    "[Note:] To get the true effect coverage, simply add the flag true_effect=True in the is_valid function, as per the comment."
   ]
  },
  {
   "cell_type": "code",
   "execution_count": 4,
   "metadata": {},
   "outputs": [],
   "source": [
    "d_list = (np.arange(4)+1)*d_inc\n",
    "n_list = (np.arange(5)+1)*n_inc"
   ]
  },
  {
   "cell_type": "code",
   "execution_count": 5,
   "metadata": {},
   "outputs": [
    {
     "data": {
      "image/png": "[encoded data removed]",
      "text/plain": [
       "<Figure size 504x360 with 1 Axes>"
      ]
     },
     "metadata": {
      "needs_background": "light"
     },
     "output_type": "display_data"
    }
   ],
   "source": [
    "plt.figure(figsize=(7, 5))\n",
    "colors=['darkorchid', 'royalblue', 'firebrick', 'darkorange', 'forestgreen']\n",
    "for d_iter in range(4):\n",
    "    d = d_inc * (d_iter+1)\n",
    "    plt.plot(n_list, results_rand[d_iter], color=colors[d_iter], label=\"d = \" + str(d), linewidth=2)\n",
    "plt.plot(n_list, err_lvl*np.ones(5), '--', color=\"black\", linewidth=2)\n",
    "plt.xlabel(\"sample size\", fontsize=20)\n",
    "plt.xticks(fontsize=14)\n",
    "plt.ylabel(\"error probability\", fontsize=20)\n",
    "plt.yticks(fontsize=14)\n",
    "plt.legend(fontsize=16)\n",
    "plt.title(\"Exact Selection\", fontsize=20)\n",
    "plt.ylim((0.0, 0.5))\n",
    "plt.tight_layout();"
   ]
  }
 ],
 "metadata": {
  "kernelspec": {
   "display_name": "Python 3",
   "language": "python",
   "name": "python3"
  },
  "language_info": {
   "codemirror_mode": {
    "name": "ipython",
    "version": 3
   },
   "file_extension": ".py",
   "mimetype": "text/x-python",
   "name": "python",
   "nbconvert_exporter": "python",
   "pygments_lexer": "ipython3",
   "version": "3.8.3"
  }
 },
 "nbformat": 4,
 "nbformat_minor": 4
}
